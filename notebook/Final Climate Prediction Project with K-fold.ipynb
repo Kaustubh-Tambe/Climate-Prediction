{
 "cells": [
  {
   "cell_type": "raw",
   "id": "17a11dbd",
   "metadata": {},
   "source": [
    "Y\t\tYear\n",
    "M\t\tMonth\n",
    "D\t\tDay\n",
    "T\t°C\tAverage Temperature\n",
    "TM\t°C\tMaximum temperature\n",
    "Tm\t°C\tMinimum temperature\n",
    "SLP\thPa\tAverage atmospheric pressure at sea level\n",
    "STP\thPa\tAverage atmospheric pressure at the station level\n",
    "H\t%\tAverage relative humidity\n",
    "PP\tmm\tTotal rainfall and / or snowmelt\n",
    "VV\tKm\tAverage visibility\n",
    "VV\tkm/h\tAverage wind speed\n",
    "VM\tkm/h\tMaximum sustained wind speed\n",
    "VG\tkm/h\tMaximum speed of wind\n",
    "FG\t0 - 1\tIndicator for occurrence of: Fog\n",
    "RA\t0 - 1\tIndicator for occurrence of: Rain or Drizzle\n",
    "SN\t0 - 1\tIndicator for occurrence of: Snow or Ice Pellets\n",
    "GR\t0 - 1\tIndicator for occurrence of: Hail\n",
    "TS\t0 - 1\tIndicator for occurrence of: Thunder\n",
    "TR\t0 - 1\tIndicator for occurrence of: Tornado / Funnel cloud"
   ]
  },
  {
   "cell_type": "code",
   "execution_count": 1,
   "id": "a46a61ed",
   "metadata": {},
   "outputs": [],
   "source": [
    "import pandas as pd\n",
    "import numpy as np\n",
    "import matplotlib.pyplot as plt\n",
    "import seaborn as sns \n",
    "import warnings\n",
    "warnings.filterwarnings(\"ignore\")"
   ]
  },
  {
   "cell_type": "code",
   "execution_count": 2,
   "id": "ff44a6f5",
   "metadata": {},
   "outputs": [],
   "source": [
    "df = pd.read_excel(\"geo.xlsx\")"
   ]
  },
  {
   "cell_type": "markdown",
   "id": "59d30853",
   "metadata": {},
   "source": [
    "# Descriptive Analysis"
   ]
  },
  {
   "cell_type": "code",
   "execution_count": 3,
   "id": "d2f7a88d",
   "metadata": {},
   "outputs": [
    {
     "name": "stdout",
     "output_type": "stream",
     "text": [
      "Data-Types Y        int64\n",
      "M        int64\n",
      "D        int64\n",
      "T      float64\n",
      "TM     float64\n",
      "Tm     float64\n",
      "SLP     object\n",
      "STP     object\n",
      "H       object\n",
      "PP      object\n",
      "VV     float64\n",
      "V      float64\n",
      "VM      object\n",
      "VG      object\n",
      "FG       int64\n",
      "RA       int64\n",
      "SN       int64\n",
      "GR       int64\n",
      "TS       int64\n",
      "TR       int64\n",
      "dtype: object\n",
      "\n",
      "Column name :- Index(['Y', 'M', 'D', 'T', 'TM', 'Tm', 'SLP', 'STP', 'H', 'PP', 'VV', 'V',\n",
      "       'VM', 'VG', 'FG', 'RA', 'SN', 'GR', 'TS', 'TR'],\n",
      "      dtype='object')\n",
      "\n",
      "DataFrame Shape :- (1826, 20)\n"
     ]
    }
   ],
   "source": [
    "print(\"Data-Types\",df.dtypes)\n",
    "print()\n",
    "print(\"Column name :-\",df.columns)\n",
    "print()\n",
    "print(\"DataFrame Shape :-\",df.shape)"
   ]
  },
  {
   "cell_type": "code",
   "execution_count": 4,
   "id": "94c2e496",
   "metadata": {},
   "outputs": [
    {
     "data": {
      "text/html": [
       "<div>\n",
       "<style scoped>\n",
       "    .dataframe tbody tr th:only-of-type {\n",
       "        vertical-align: middle;\n",
       "    }\n",
       "\n",
       "    .dataframe tbody tr th {\n",
       "        vertical-align: top;\n",
       "    }\n",
       "\n",
       "    .dataframe thead th {\n",
       "        text-align: right;\n",
       "    }\n",
       "</style>\n",
       "<table border=\"1\" class=\"dataframe\">\n",
       "  <thead>\n",
       "    <tr style=\"text-align: right;\">\n",
       "      <th></th>\n",
       "      <th>Y</th>\n",
       "      <th>M</th>\n",
       "      <th>D</th>\n",
       "      <th>T</th>\n",
       "      <th>TM</th>\n",
       "      <th>Tm</th>\n",
       "      <th>VV</th>\n",
       "      <th>V</th>\n",
       "      <th>FG</th>\n",
       "      <th>RA</th>\n",
       "      <th>SN</th>\n",
       "      <th>GR</th>\n",
       "      <th>TS</th>\n",
       "      <th>TR</th>\n",
       "    </tr>\n",
       "  </thead>\n",
       "  <tbody>\n",
       "    <tr>\n",
       "      <th>count</th>\n",
       "      <td>1826.000000</td>\n",
       "      <td>1826.000000</td>\n",
       "      <td>1826.000000</td>\n",
       "      <td>1826.000000</td>\n",
       "      <td>1826.000000</td>\n",
       "      <td>1826.000000</td>\n",
       "      <td>1826.000000</td>\n",
       "      <td>1826.000000</td>\n",
       "      <td>1826.000000</td>\n",
       "      <td>1826.000000</td>\n",
       "      <td>1826.000000</td>\n",
       "      <td>1826.000000</td>\n",
       "      <td>1826.000000</td>\n",
       "      <td>1826.0</td>\n",
       "    </tr>\n",
       "    <tr>\n",
       "      <th>mean</th>\n",
       "      <td>1992.999452</td>\n",
       "      <td>6.523549</td>\n",
       "      <td>15.727820</td>\n",
       "      <td>14.446057</td>\n",
       "      <td>21.146331</td>\n",
       "      <td>7.775685</td>\n",
       "      <td>10.882037</td>\n",
       "      <td>9.355641</td>\n",
       "      <td>0.060789</td>\n",
       "      <td>0.235487</td>\n",
       "      <td>0.004381</td>\n",
       "      <td>0.006024</td>\n",
       "      <td>0.058598</td>\n",
       "      <td>0.0</td>\n",
       "    </tr>\n",
       "    <tr>\n",
       "      <th>std</th>\n",
       "      <td>1.414407</td>\n",
       "      <td>3.449478</td>\n",
       "      <td>8.801735</td>\n",
       "      <td>7.827301</td>\n",
       "      <td>8.864599</td>\n",
       "      <td>6.865112</td>\n",
       "      <td>2.120464</td>\n",
       "      <td>6.189533</td>\n",
       "      <td>0.239008</td>\n",
       "      <td>0.424419</td>\n",
       "      <td>0.066063</td>\n",
       "      <td>0.077402</td>\n",
       "      <td>0.234935</td>\n",
       "      <td>0.0</td>\n",
       "    </tr>\n",
       "    <tr>\n",
       "      <th>min</th>\n",
       "      <td>1991.000000</td>\n",
       "      <td>1.000000</td>\n",
       "      <td>1.000000</td>\n",
       "      <td>-2.100000</td>\n",
       "      <td>2.000000</td>\n",
       "      <td>-8.500000</td>\n",
       "      <td>0.300000</td>\n",
       "      <td>0.000000</td>\n",
       "      <td>0.000000</td>\n",
       "      <td>0.000000</td>\n",
       "      <td>0.000000</td>\n",
       "      <td>0.000000</td>\n",
       "      <td>0.000000</td>\n",
       "      <td>0.0</td>\n",
       "    </tr>\n",
       "    <tr>\n",
       "      <th>25%</th>\n",
       "      <td>1992.000000</td>\n",
       "      <td>4.000000</td>\n",
       "      <td>8.000000</td>\n",
       "      <td>8.100000</td>\n",
       "      <td>14.000000</td>\n",
       "      <td>2.800000</td>\n",
       "      <td>10.300000</td>\n",
       "      <td>4.800000</td>\n",
       "      <td>0.000000</td>\n",
       "      <td>0.000000</td>\n",
       "      <td>0.000000</td>\n",
       "      <td>0.000000</td>\n",
       "      <td>0.000000</td>\n",
       "      <td>0.0</td>\n",
       "    </tr>\n",
       "    <tr>\n",
       "      <th>50%</th>\n",
       "      <td>1993.000000</td>\n",
       "      <td>7.000000</td>\n",
       "      <td>16.000000</td>\n",
       "      <td>13.300000</td>\n",
       "      <td>20.000000</td>\n",
       "      <td>7.650000</td>\n",
       "      <td>10.900000</td>\n",
       "      <td>8.000000</td>\n",
       "      <td>0.000000</td>\n",
       "      <td>0.000000</td>\n",
       "      <td>0.000000</td>\n",
       "      <td>0.000000</td>\n",
       "      <td>0.000000</td>\n",
       "      <td>0.0</td>\n",
       "    </tr>\n",
       "    <tr>\n",
       "      <th>75%</th>\n",
       "      <td>1994.000000</td>\n",
       "      <td>10.000000</td>\n",
       "      <td>23.000000</td>\n",
       "      <td>20.800000</td>\n",
       "      <td>28.000000</td>\n",
       "      <td>13.000000</td>\n",
       "      <td>11.700000</td>\n",
       "      <td>12.400000</td>\n",
       "      <td>0.000000</td>\n",
       "      <td>0.000000</td>\n",
       "      <td>0.000000</td>\n",
       "      <td>0.000000</td>\n",
       "      <td>0.000000</td>\n",
       "      <td>0.0</td>\n",
       "    </tr>\n",
       "    <tr>\n",
       "      <th>max</th>\n",
       "      <td>1995.000000</td>\n",
       "      <td>12.000000</td>\n",
       "      <td>31.000000</td>\n",
       "      <td>32.100000</td>\n",
       "      <td>42.200000</td>\n",
       "      <td>26.000000</td>\n",
       "      <td>19.000000</td>\n",
       "      <td>35.700000</td>\n",
       "      <td>1.000000</td>\n",
       "      <td>1.000000</td>\n",
       "      <td>1.000000</td>\n",
       "      <td>1.000000</td>\n",
       "      <td>1.000000</td>\n",
       "      <td>0.0</td>\n",
       "    </tr>\n",
       "  </tbody>\n",
       "</table>\n",
       "</div>"
      ],
      "text/plain": [
       "                 Y            M            D            T           TM  \\\n",
       "count  1826.000000  1826.000000  1826.000000  1826.000000  1826.000000   \n",
       "mean   1992.999452     6.523549    15.727820    14.446057    21.146331   \n",
       "std       1.414407     3.449478     8.801735     7.827301     8.864599   \n",
       "min    1991.000000     1.000000     1.000000    -2.100000     2.000000   \n",
       "25%    1992.000000     4.000000     8.000000     8.100000    14.000000   \n",
       "50%    1993.000000     7.000000    16.000000    13.300000    20.000000   \n",
       "75%    1994.000000    10.000000    23.000000    20.800000    28.000000   \n",
       "max    1995.000000    12.000000    31.000000    32.100000    42.200000   \n",
       "\n",
       "                Tm           VV            V           FG           RA  \\\n",
       "count  1826.000000  1826.000000  1826.000000  1826.000000  1826.000000   \n",
       "mean      7.775685    10.882037     9.355641     0.060789     0.235487   \n",
       "std       6.865112     2.120464     6.189533     0.239008     0.424419   \n",
       "min      -8.500000     0.300000     0.000000     0.000000     0.000000   \n",
       "25%       2.800000    10.300000     4.800000     0.000000     0.000000   \n",
       "50%       7.650000    10.900000     8.000000     0.000000     0.000000   \n",
       "75%      13.000000    11.700000    12.400000     0.000000     0.000000   \n",
       "max      26.000000    19.000000    35.700000     1.000000     1.000000   \n",
       "\n",
       "                SN           GR           TS      TR  \n",
       "count  1826.000000  1826.000000  1826.000000  1826.0  \n",
       "mean      0.004381     0.006024     0.058598     0.0  \n",
       "std       0.066063     0.077402     0.234935     0.0  \n",
       "min       0.000000     0.000000     0.000000     0.0  \n",
       "25%       0.000000     0.000000     0.000000     0.0  \n",
       "50%       0.000000     0.000000     0.000000     0.0  \n",
       "75%       0.000000     0.000000     0.000000     0.0  \n",
       "max       1.000000     1.000000     1.000000     0.0  "
      ]
     },
     "execution_count": 4,
     "metadata": {},
     "output_type": "execute_result"
    }
   ],
   "source": [
    "df.describe()"
   ]
  },
  {
   "cell_type": "code",
   "execution_count": 5,
   "id": "904eacb9",
   "metadata": {},
   "outputs": [
    {
     "name": "stdout",
     "output_type": "stream",
     "text": [
      "<class 'pandas.core.frame.DataFrame'>\n",
      "RangeIndex: 1826 entries, 0 to 1825\n",
      "Data columns (total 20 columns):\n",
      " #   Column  Non-Null Count  Dtype  \n",
      "---  ------  --------------  -----  \n",
      " 0   Y       1826 non-null   int64  \n",
      " 1   M       1826 non-null   int64  \n",
      " 2   D       1826 non-null   int64  \n",
      " 3   T       1826 non-null   float64\n",
      " 4   TM      1826 non-null   float64\n",
      " 5   Tm      1826 non-null   float64\n",
      " 6   SLP     1826 non-null   object \n",
      " 7   STP     1826 non-null   object \n",
      " 8   H       1826 non-null   object \n",
      " 9   PP      1826 non-null   object \n",
      " 10  VV      1826 non-null   float64\n",
      " 11  V       1826 non-null   float64\n",
      " 12  VM      1826 non-null   object \n",
      " 13  VG      1826 non-null   object \n",
      " 14  FG      1826 non-null   int64  \n",
      " 15  RA      1826 non-null   int64  \n",
      " 16  SN      1826 non-null   int64  \n",
      " 17  GR      1826 non-null   int64  \n",
      " 18  TS      1826 non-null   int64  \n",
      " 19  TR      1826 non-null   int64  \n",
      "dtypes: float64(5), int64(9), object(6)\n",
      "memory usage: 285.4+ KB\n"
     ]
    }
   ],
   "source": [
    "df.info()"
   ]
  },
  {
   "cell_type": "code",
   "execution_count": 6,
   "id": "79c54bef",
   "metadata": {
    "scrolled": false
   },
   "outputs": [
    {
     "data": {
      "text/html": [
       "<div>\n",
       "<style scoped>\n",
       "    .dataframe tbody tr th:only-of-type {\n",
       "        vertical-align: middle;\n",
       "    }\n",
       "\n",
       "    .dataframe tbody tr th {\n",
       "        vertical-align: top;\n",
       "    }\n",
       "\n",
       "    .dataframe thead th {\n",
       "        text-align: right;\n",
       "    }\n",
       "</style>\n",
       "<table border=\"1\" class=\"dataframe\">\n",
       "  <thead>\n",
       "    <tr style=\"text-align: right;\">\n",
       "      <th></th>\n",
       "      <th>Y</th>\n",
       "      <th>M</th>\n",
       "      <th>D</th>\n",
       "      <th>T</th>\n",
       "      <th>TM</th>\n",
       "      <th>Tm</th>\n",
       "      <th>SLP</th>\n",
       "      <th>STP</th>\n",
       "      <th>H</th>\n",
       "      <th>PP</th>\n",
       "      <th>VV</th>\n",
       "      <th>V</th>\n",
       "      <th>VM</th>\n",
       "      <th>VG</th>\n",
       "      <th>FG</th>\n",
       "      <th>RA</th>\n",
       "      <th>SN</th>\n",
       "      <th>GR</th>\n",
       "      <th>TS</th>\n",
       "      <th>TR</th>\n",
       "    </tr>\n",
       "  </thead>\n",
       "  <tbody>\n",
       "    <tr>\n",
       "      <th>1821</th>\n",
       "      <td>1995</td>\n",
       "      <td>12</td>\n",
       "      <td>27</td>\n",
       "      <td>9.7</td>\n",
       "      <td>11.0</td>\n",
       "      <td>6.5</td>\n",
       "      <td>1008.8</td>\n",
       "      <td>941.1</td>\n",
       "      <td>87</td>\n",
       "      <td>6.1</td>\n",
       "      <td>10.1</td>\n",
       "      <td>11.7</td>\n",
       "      <td>22.2</td>\n",
       "      <td>33.5</td>\n",
       "      <td>0</td>\n",
       "      <td>1</td>\n",
       "      <td>0</td>\n",
       "      <td>0</td>\n",
       "      <td>0</td>\n",
       "      <td>0</td>\n",
       "    </tr>\n",
       "    <tr>\n",
       "      <th>1822</th>\n",
       "      <td>1995</td>\n",
       "      <td>12</td>\n",
       "      <td>28</td>\n",
       "      <td>11.3</td>\n",
       "      <td>14.0</td>\n",
       "      <td>8.0</td>\n",
       "      <td>1012.8</td>\n",
       "      <td>945</td>\n",
       "      <td>78</td>\n",
       "      <td>0</td>\n",
       "      <td>12.4</td>\n",
       "      <td>14.6</td>\n",
       "      <td>22.2</td>\n",
       "      <td>40.7</td>\n",
       "      <td>0</td>\n",
       "      <td>1</td>\n",
       "      <td>0</td>\n",
       "      <td>0</td>\n",
       "      <td>0</td>\n",
       "      <td>0</td>\n",
       "    </tr>\n",
       "    <tr>\n",
       "      <th>1823</th>\n",
       "      <td>1995</td>\n",
       "      <td>12</td>\n",
       "      <td>29</td>\n",
       "      <td>9.0</td>\n",
       "      <td>10.2</td>\n",
       "      <td>7.6</td>\n",
       "      <td>1011.6</td>\n",
       "      <td>943.1</td>\n",
       "      <td>95</td>\n",
       "      <td>7.87</td>\n",
       "      <td>6.9</td>\n",
       "      <td>8.5</td>\n",
       "      <td>16.5</td>\n",
       "      <td>-</td>\n",
       "      <td>0</td>\n",
       "      <td>1</td>\n",
       "      <td>0</td>\n",
       "      <td>0</td>\n",
       "      <td>0</td>\n",
       "      <td>0</td>\n",
       "    </tr>\n",
       "    <tr>\n",
       "      <th>1824</th>\n",
       "      <td>1995</td>\n",
       "      <td>12</td>\n",
       "      <td>30</td>\n",
       "      <td>11.5</td>\n",
       "      <td>14.0</td>\n",
       "      <td>8.8</td>\n",
       "      <td>1001.6</td>\n",
       "      <td>935.1</td>\n",
       "      <td>91</td>\n",
       "      <td>21.08</td>\n",
       "      <td>10.3</td>\n",
       "      <td>17.8</td>\n",
       "      <td>29.4</td>\n",
       "      <td>53.5</td>\n",
       "      <td>0</td>\n",
       "      <td>1</td>\n",
       "      <td>0</td>\n",
       "      <td>0</td>\n",
       "      <td>0</td>\n",
       "      <td>0</td>\n",
       "    </tr>\n",
       "    <tr>\n",
       "      <th>1825</th>\n",
       "      <td>1995</td>\n",
       "      <td>12</td>\n",
       "      <td>31</td>\n",
       "      <td>11.3</td>\n",
       "      <td>14.0</td>\n",
       "      <td>8.0</td>\n",
       "      <td>1004.8</td>\n",
       "      <td>937.7</td>\n",
       "      <td>79</td>\n",
       "      <td>1.02</td>\n",
       "      <td>12.4</td>\n",
       "      <td>19.8</td>\n",
       "      <td>37</td>\n",
       "      <td>51.9</td>\n",
       "      <td>0</td>\n",
       "      <td>1</td>\n",
       "      <td>0</td>\n",
       "      <td>0</td>\n",
       "      <td>0</td>\n",
       "      <td>0</td>\n",
       "    </tr>\n",
       "  </tbody>\n",
       "</table>\n",
       "</div>"
      ],
      "text/plain": [
       "         Y   M   D     T    TM   Tm     SLP    STP   H     PP    VV     V  \\\n",
       "1821  1995  12  27   9.7  11.0  6.5  1008.8  941.1  87    6.1  10.1  11.7   \n",
       "1822  1995  12  28  11.3  14.0  8.0  1012.8    945  78      0  12.4  14.6   \n",
       "1823  1995  12  29   9.0  10.2  7.6  1011.6  943.1  95   7.87   6.9   8.5   \n",
       "1824  1995  12  30  11.5  14.0  8.8  1001.6  935.1  91  21.08  10.3  17.8   \n",
       "1825  1995  12  31  11.3  14.0  8.0  1004.8  937.7  79   1.02  12.4  19.8   \n",
       "\n",
       "        VM    VG  FG  RA  SN  GR  TS  TR  \n",
       "1821  22.2  33.5   0   1   0   0   0   0  \n",
       "1822  22.2  40.7   0   1   0   0   0   0  \n",
       "1823  16.5     -   0   1   0   0   0   0  \n",
       "1824  29.4  53.5   0   1   0   0   0   0  \n",
       "1825    37  51.9   0   1   0   0   0   0  "
      ]
     },
     "execution_count": 6,
     "metadata": {},
     "output_type": "execute_result"
    }
   ],
   "source": [
    "df.tail()"
   ]
  },
  {
   "cell_type": "markdown",
   "id": "c63c0bdf",
   "metadata": {},
   "source": [
    "# Preprocessing of Data"
   ]
  },
  {
   "cell_type": "code",
   "execution_count": 7,
   "id": "d61d2541",
   "metadata": {},
   "outputs": [],
   "source": [
    "#replacing the character(-) used as null in data \n",
    "df=df.replace('-', np.nan)"
   ]
  },
  {
   "cell_type": "code",
   "execution_count": 8,
   "id": "385ce135",
   "metadata": {
    "scrolled": true
   },
   "outputs": [
    {
     "data": {
      "text/html": [
       "<div>\n",
       "<style scoped>\n",
       "    .dataframe tbody tr th:only-of-type {\n",
       "        vertical-align: middle;\n",
       "    }\n",
       "\n",
       "    .dataframe tbody tr th {\n",
       "        vertical-align: top;\n",
       "    }\n",
       "\n",
       "    .dataframe thead th {\n",
       "        text-align: right;\n",
       "    }\n",
       "</style>\n",
       "<table border=\"1\" class=\"dataframe\">\n",
       "  <thead>\n",
       "    <tr style=\"text-align: right;\">\n",
       "      <th></th>\n",
       "      <th>Y</th>\n",
       "      <th>M</th>\n",
       "      <th>D</th>\n",
       "      <th>T</th>\n",
       "      <th>TM</th>\n",
       "      <th>Tm</th>\n",
       "      <th>SLP</th>\n",
       "      <th>STP</th>\n",
       "      <th>H</th>\n",
       "      <th>PP</th>\n",
       "      <th>VV</th>\n",
       "      <th>V</th>\n",
       "      <th>VM</th>\n",
       "      <th>VG</th>\n",
       "      <th>FG</th>\n",
       "      <th>RA</th>\n",
       "      <th>SN</th>\n",
       "      <th>GR</th>\n",
       "      <th>TS</th>\n",
       "      <th>TR</th>\n",
       "    </tr>\n",
       "  </thead>\n",
       "  <tbody>\n",
       "    <tr>\n",
       "      <th>0</th>\n",
       "      <td>1991</td>\n",
       "      <td>1</td>\n",
       "      <td>1</td>\n",
       "      <td>5.3</td>\n",
       "      <td>9.6</td>\n",
       "      <td>0.0</td>\n",
       "      <td>NaN</td>\n",
       "      <td>NaN</td>\n",
       "      <td>86.0</td>\n",
       "      <td>0.00</td>\n",
       "      <td>3.4</td>\n",
       "      <td>2.4</td>\n",
       "      <td>13.0</td>\n",
       "      <td>NaN</td>\n",
       "      <td>1</td>\n",
       "      <td>0</td>\n",
       "      <td>0</td>\n",
       "      <td>0</td>\n",
       "      <td>0</td>\n",
       "      <td>0</td>\n",
       "    </tr>\n",
       "    <tr>\n",
       "      <th>1</th>\n",
       "      <td>1991</td>\n",
       "      <td>1</td>\n",
       "      <td>2</td>\n",
       "      <td>2.6</td>\n",
       "      <td>6.4</td>\n",
       "      <td>0.0</td>\n",
       "      <td>NaN</td>\n",
       "      <td>NaN</td>\n",
       "      <td>88.0</td>\n",
       "      <td>0.00</td>\n",
       "      <td>3.7</td>\n",
       "      <td>4.1</td>\n",
       "      <td>11.1</td>\n",
       "      <td>NaN</td>\n",
       "      <td>1</td>\n",
       "      <td>0</td>\n",
       "      <td>0</td>\n",
       "      <td>0</td>\n",
       "      <td>0</td>\n",
       "      <td>0</td>\n",
       "    </tr>\n",
       "    <tr>\n",
       "      <th>2</th>\n",
       "      <td>1991</td>\n",
       "      <td>1</td>\n",
       "      <td>3</td>\n",
       "      <td>2.3</td>\n",
       "      <td>5.2</td>\n",
       "      <td>-1.0</td>\n",
       "      <td>NaN</td>\n",
       "      <td>NaN</td>\n",
       "      <td>87.0</td>\n",
       "      <td>0.00</td>\n",
       "      <td>2.6</td>\n",
       "      <td>2.0</td>\n",
       "      <td>9.4</td>\n",
       "      <td>NaN</td>\n",
       "      <td>1</td>\n",
       "      <td>0</td>\n",
       "      <td>0</td>\n",
       "      <td>0</td>\n",
       "      <td>0</td>\n",
       "      <td>0</td>\n",
       "    </tr>\n",
       "    <tr>\n",
       "      <th>3</th>\n",
       "      <td>1991</td>\n",
       "      <td>1</td>\n",
       "      <td>4</td>\n",
       "      <td>3.9</td>\n",
       "      <td>10.0</td>\n",
       "      <td>0.0</td>\n",
       "      <td>NaN</td>\n",
       "      <td>NaN</td>\n",
       "      <td>63.0</td>\n",
       "      <td>0.00</td>\n",
       "      <td>8.0</td>\n",
       "      <td>4.4</td>\n",
       "      <td>25.9</td>\n",
       "      <td>NaN</td>\n",
       "      <td>1</td>\n",
       "      <td>0</td>\n",
       "      <td>0</td>\n",
       "      <td>0</td>\n",
       "      <td>0</td>\n",
       "      <td>0</td>\n",
       "    </tr>\n",
       "    <tr>\n",
       "      <th>4</th>\n",
       "      <td>1991</td>\n",
       "      <td>1</td>\n",
       "      <td>5</td>\n",
       "      <td>2.9</td>\n",
       "      <td>10.4</td>\n",
       "      <td>-3.0</td>\n",
       "      <td>NaN</td>\n",
       "      <td>NaN</td>\n",
       "      <td>69.0</td>\n",
       "      <td>0.00</td>\n",
       "      <td>10.5</td>\n",
       "      <td>5.2</td>\n",
       "      <td>18.3</td>\n",
       "      <td>NaN</td>\n",
       "      <td>0</td>\n",
       "      <td>0</td>\n",
       "      <td>0</td>\n",
       "      <td>0</td>\n",
       "      <td>0</td>\n",
       "      <td>0</td>\n",
       "    </tr>\n",
       "    <tr>\n",
       "      <th>5</th>\n",
       "      <td>1991</td>\n",
       "      <td>1</td>\n",
       "      <td>6</td>\n",
       "      <td>3.6</td>\n",
       "      <td>7.6</td>\n",
       "      <td>-1.0</td>\n",
       "      <td>NaN</td>\n",
       "      <td>NaN</td>\n",
       "      <td>87.0</td>\n",
       "      <td>0.00</td>\n",
       "      <td>7.6</td>\n",
       "      <td>4.1</td>\n",
       "      <td>16.5</td>\n",
       "      <td>NaN</td>\n",
       "      <td>0</td>\n",
       "      <td>0</td>\n",
       "      <td>0</td>\n",
       "      <td>0</td>\n",
       "      <td>0</td>\n",
       "      <td>0</td>\n",
       "    </tr>\n",
       "    <tr>\n",
       "      <th>6</th>\n",
       "      <td>1991</td>\n",
       "      <td>1</td>\n",
       "      <td>7</td>\n",
       "      <td>8.1</td>\n",
       "      <td>10.6</td>\n",
       "      <td>6.0</td>\n",
       "      <td>NaN</td>\n",
       "      <td>NaN</td>\n",
       "      <td>82.0</td>\n",
       "      <td>0.00</td>\n",
       "      <td>10.1</td>\n",
       "      <td>14.8</td>\n",
       "      <td>24.1</td>\n",
       "      <td>NaN</td>\n",
       "      <td>0</td>\n",
       "      <td>1</td>\n",
       "      <td>0</td>\n",
       "      <td>0</td>\n",
       "      <td>0</td>\n",
       "      <td>0</td>\n",
       "    </tr>\n",
       "    <tr>\n",
       "      <th>7</th>\n",
       "      <td>1991</td>\n",
       "      <td>1</td>\n",
       "      <td>8</td>\n",
       "      <td>8.4</td>\n",
       "      <td>12.0</td>\n",
       "      <td>5.0</td>\n",
       "      <td>NaN</td>\n",
       "      <td>NaN</td>\n",
       "      <td>73.0</td>\n",
       "      <td>5.08</td>\n",
       "      <td>10.8</td>\n",
       "      <td>10.6</td>\n",
       "      <td>25.9</td>\n",
       "      <td>NaN</td>\n",
       "      <td>0</td>\n",
       "      <td>1</td>\n",
       "      <td>0</td>\n",
       "      <td>0</td>\n",
       "      <td>0</td>\n",
       "      <td>0</td>\n",
       "    </tr>\n",
       "    <tr>\n",
       "      <th>8</th>\n",
       "      <td>1991</td>\n",
       "      <td>1</td>\n",
       "      <td>9</td>\n",
       "      <td>9.1</td>\n",
       "      <td>11.6</td>\n",
       "      <td>6.8</td>\n",
       "      <td>NaN</td>\n",
       "      <td>NaN</td>\n",
       "      <td>81.0</td>\n",
       "      <td>0.00</td>\n",
       "      <td>10.0</td>\n",
       "      <td>11.3</td>\n",
       "      <td>22.2</td>\n",
       "      <td>NaN</td>\n",
       "      <td>0</td>\n",
       "      <td>1</td>\n",
       "      <td>0</td>\n",
       "      <td>0</td>\n",
       "      <td>0</td>\n",
       "      <td>0</td>\n",
       "    </tr>\n",
       "    <tr>\n",
       "      <th>9</th>\n",
       "      <td>1991</td>\n",
       "      <td>1</td>\n",
       "      <td>10</td>\n",
       "      <td>10.2</td>\n",
       "      <td>13.3</td>\n",
       "      <td>8.0</td>\n",
       "      <td>NaN</td>\n",
       "      <td>NaN</td>\n",
       "      <td>75.0</td>\n",
       "      <td>0.00</td>\n",
       "      <td>11.1</td>\n",
       "      <td>9.8</td>\n",
       "      <td>18.3</td>\n",
       "      <td>NaN</td>\n",
       "      <td>0</td>\n",
       "      <td>0</td>\n",
       "      <td>0</td>\n",
       "      <td>0</td>\n",
       "      <td>0</td>\n",
       "      <td>0</td>\n",
       "    </tr>\n",
       "    <tr>\n",
       "      <th>10</th>\n",
       "      <td>1991</td>\n",
       "      <td>1</td>\n",
       "      <td>11</td>\n",
       "      <td>9.4</td>\n",
       "      <td>12.2</td>\n",
       "      <td>6.0</td>\n",
       "      <td>NaN</td>\n",
       "      <td>NaN</td>\n",
       "      <td>76.0</td>\n",
       "      <td>0.00</td>\n",
       "      <td>10.9</td>\n",
       "      <td>7.0</td>\n",
       "      <td>18.3</td>\n",
       "      <td>NaN</td>\n",
       "      <td>0</td>\n",
       "      <td>1</td>\n",
       "      <td>0</td>\n",
       "      <td>0</td>\n",
       "      <td>0</td>\n",
       "      <td>0</td>\n",
       "    </tr>\n",
       "    <tr>\n",
       "      <th>11</th>\n",
       "      <td>1991</td>\n",
       "      <td>1</td>\n",
       "      <td>12</td>\n",
       "      <td>6.6</td>\n",
       "      <td>9.2</td>\n",
       "      <td>3.0</td>\n",
       "      <td>NaN</td>\n",
       "      <td>NaN</td>\n",
       "      <td>67.0</td>\n",
       "      <td>2.03</td>\n",
       "      <td>10.1</td>\n",
       "      <td>14.1</td>\n",
       "      <td>33.5</td>\n",
       "      <td>50.0</td>\n",
       "      <td>0</td>\n",
       "      <td>1</td>\n",
       "      <td>0</td>\n",
       "      <td>0</td>\n",
       "      <td>0</td>\n",
       "      <td>0</td>\n",
       "    </tr>\n",
       "    <tr>\n",
       "      <th>12</th>\n",
       "      <td>1991</td>\n",
       "      <td>1</td>\n",
       "      <td>13</td>\n",
       "      <td>3.0</td>\n",
       "      <td>7.6</td>\n",
       "      <td>-0.4</td>\n",
       "      <td>NaN</td>\n",
       "      <td>NaN</td>\n",
       "      <td>55.0</td>\n",
       "      <td>0.00</td>\n",
       "      <td>11.1</td>\n",
       "      <td>12.8</td>\n",
       "      <td>22.2</td>\n",
       "      <td>NaN</td>\n",
       "      <td>0</td>\n",
       "      <td>0</td>\n",
       "      <td>0</td>\n",
       "      <td>0</td>\n",
       "      <td>0</td>\n",
       "      <td>0</td>\n",
       "    </tr>\n",
       "    <tr>\n",
       "      <th>13</th>\n",
       "      <td>1991</td>\n",
       "      <td>1</td>\n",
       "      <td>14</td>\n",
       "      <td>1.6</td>\n",
       "      <td>7.0</td>\n",
       "      <td>-3.0</td>\n",
       "      <td>NaN</td>\n",
       "      <td>NaN</td>\n",
       "      <td>55.0</td>\n",
       "      <td>0.00</td>\n",
       "      <td>10.1</td>\n",
       "      <td>3.7</td>\n",
       "      <td>14.8</td>\n",
       "      <td>NaN</td>\n",
       "      <td>0</td>\n",
       "      <td>0</td>\n",
       "      <td>0</td>\n",
       "      <td>0</td>\n",
       "      <td>0</td>\n",
       "      <td>0</td>\n",
       "    </tr>\n",
       "    <tr>\n",
       "      <th>14</th>\n",
       "      <td>1991</td>\n",
       "      <td>1</td>\n",
       "      <td>15</td>\n",
       "      <td>-1.4</td>\n",
       "      <td>6.3</td>\n",
       "      <td>-6.0</td>\n",
       "      <td>NaN</td>\n",
       "      <td>NaN</td>\n",
       "      <td>68.0</td>\n",
       "      <td>0.00</td>\n",
       "      <td>10.0</td>\n",
       "      <td>1.1</td>\n",
       "      <td>11.1</td>\n",
       "      <td>NaN</td>\n",
       "      <td>0</td>\n",
       "      <td>0</td>\n",
       "      <td>0</td>\n",
       "      <td>0</td>\n",
       "      <td>0</td>\n",
       "      <td>0</td>\n",
       "    </tr>\n",
       "    <tr>\n",
       "      <th>15</th>\n",
       "      <td>1991</td>\n",
       "      <td>1</td>\n",
       "      <td>16</td>\n",
       "      <td>-1.2</td>\n",
       "      <td>3.4</td>\n",
       "      <td>-5.0</td>\n",
       "      <td>NaN</td>\n",
       "      <td>NaN</td>\n",
       "      <td>77.0</td>\n",
       "      <td>0.00</td>\n",
       "      <td>9.8</td>\n",
       "      <td>1.3</td>\n",
       "      <td>7.6</td>\n",
       "      <td>NaN</td>\n",
       "      <td>0</td>\n",
       "      <td>0</td>\n",
       "      <td>0</td>\n",
       "      <td>0</td>\n",
       "      <td>0</td>\n",
       "      <td>0</td>\n",
       "    </tr>\n",
       "    <tr>\n",
       "      <th>16</th>\n",
       "      <td>1991</td>\n",
       "      <td>1</td>\n",
       "      <td>17</td>\n",
       "      <td>3.4</td>\n",
       "      <td>6.4</td>\n",
       "      <td>1.0</td>\n",
       "      <td>NaN</td>\n",
       "      <td>NaN</td>\n",
       "      <td>79.0</td>\n",
       "      <td>0.25</td>\n",
       "      <td>7.9</td>\n",
       "      <td>1.9</td>\n",
       "      <td>7.6</td>\n",
       "      <td>NaN</td>\n",
       "      <td>0</td>\n",
       "      <td>1</td>\n",
       "      <td>0</td>\n",
       "      <td>0</td>\n",
       "      <td>0</td>\n",
       "      <td>0</td>\n",
       "    </tr>\n",
       "    <tr>\n",
       "      <th>17</th>\n",
       "      <td>1991</td>\n",
       "      <td>1</td>\n",
       "      <td>18</td>\n",
       "      <td>6.5</td>\n",
       "      <td>11.4</td>\n",
       "      <td>4.0</td>\n",
       "      <td>NaN</td>\n",
       "      <td>NaN</td>\n",
       "      <td>81.0</td>\n",
       "      <td>0.25</td>\n",
       "      <td>7.9</td>\n",
       "      <td>3.1</td>\n",
       "      <td>9.4</td>\n",
       "      <td>NaN</td>\n",
       "      <td>0</td>\n",
       "      <td>1</td>\n",
       "      <td>0</td>\n",
       "      <td>0</td>\n",
       "      <td>0</td>\n",
       "      <td>0</td>\n",
       "    </tr>\n",
       "    <tr>\n",
       "      <th>18</th>\n",
       "      <td>1991</td>\n",
       "      <td>1</td>\n",
       "      <td>19</td>\n",
       "      <td>7.1</td>\n",
       "      <td>11.0</td>\n",
       "      <td>3.0</td>\n",
       "      <td>NaN</td>\n",
       "      <td>NaN</td>\n",
       "      <td>77.0</td>\n",
       "      <td>0.00</td>\n",
       "      <td>9.5</td>\n",
       "      <td>3.3</td>\n",
       "      <td>14.8</td>\n",
       "      <td>NaN</td>\n",
       "      <td>0</td>\n",
       "      <td>0</td>\n",
       "      <td>0</td>\n",
       "      <td>0</td>\n",
       "      <td>0</td>\n",
       "      <td>0</td>\n",
       "    </tr>\n",
       "    <tr>\n",
       "      <th>19</th>\n",
       "      <td>1991</td>\n",
       "      <td>1</td>\n",
       "      <td>20</td>\n",
       "      <td>5.8</td>\n",
       "      <td>13.0</td>\n",
       "      <td>-1.0</td>\n",
       "      <td>NaN</td>\n",
       "      <td>NaN</td>\n",
       "      <td>61.0</td>\n",
       "      <td>0.00</td>\n",
       "      <td>10.0</td>\n",
       "      <td>6.5</td>\n",
       "      <td>27.8</td>\n",
       "      <td>40.7</td>\n",
       "      <td>0</td>\n",
       "      <td>0</td>\n",
       "      <td>0</td>\n",
       "      <td>0</td>\n",
       "      <td>0</td>\n",
       "      <td>0</td>\n",
       "    </tr>\n",
       "  </tbody>\n",
       "</table>\n",
       "</div>"
      ],
      "text/plain": [
       "       Y  M   D     T    TM   Tm  SLP  STP     H    PP    VV     V    VM  \\\n",
       "0   1991  1   1   5.3   9.6  0.0  NaN  NaN  86.0  0.00   3.4   2.4  13.0   \n",
       "1   1991  1   2   2.6   6.4  0.0  NaN  NaN  88.0  0.00   3.7   4.1  11.1   \n",
       "2   1991  1   3   2.3   5.2 -1.0  NaN  NaN  87.0  0.00   2.6   2.0   9.4   \n",
       "3   1991  1   4   3.9  10.0  0.0  NaN  NaN  63.0  0.00   8.0   4.4  25.9   \n",
       "4   1991  1   5   2.9  10.4 -3.0  NaN  NaN  69.0  0.00  10.5   5.2  18.3   \n",
       "5   1991  1   6   3.6   7.6 -1.0  NaN  NaN  87.0  0.00   7.6   4.1  16.5   \n",
       "6   1991  1   7   8.1  10.6  6.0  NaN  NaN  82.0  0.00  10.1  14.8  24.1   \n",
       "7   1991  1   8   8.4  12.0  5.0  NaN  NaN  73.0  5.08  10.8  10.6  25.9   \n",
       "8   1991  1   9   9.1  11.6  6.8  NaN  NaN  81.0  0.00  10.0  11.3  22.2   \n",
       "9   1991  1  10  10.2  13.3  8.0  NaN  NaN  75.0  0.00  11.1   9.8  18.3   \n",
       "10  1991  1  11   9.4  12.2  6.0  NaN  NaN  76.0  0.00  10.9   7.0  18.3   \n",
       "11  1991  1  12   6.6   9.2  3.0  NaN  NaN  67.0  2.03  10.1  14.1  33.5   \n",
       "12  1991  1  13   3.0   7.6 -0.4  NaN  NaN  55.0  0.00  11.1  12.8  22.2   \n",
       "13  1991  1  14   1.6   7.0 -3.0  NaN  NaN  55.0  0.00  10.1   3.7  14.8   \n",
       "14  1991  1  15  -1.4   6.3 -6.0  NaN  NaN  68.0  0.00  10.0   1.1  11.1   \n",
       "15  1991  1  16  -1.2   3.4 -5.0  NaN  NaN  77.0  0.00   9.8   1.3   7.6   \n",
       "16  1991  1  17   3.4   6.4  1.0  NaN  NaN  79.0  0.25   7.9   1.9   7.6   \n",
       "17  1991  1  18   6.5  11.4  4.0  NaN  NaN  81.0  0.25   7.9   3.1   9.4   \n",
       "18  1991  1  19   7.1  11.0  3.0  NaN  NaN  77.0  0.00   9.5   3.3  14.8   \n",
       "19  1991  1  20   5.8  13.0 -1.0  NaN  NaN  61.0  0.00  10.0   6.5  27.8   \n",
       "\n",
       "      VG  FG  RA  SN  GR  TS  TR  \n",
       "0    NaN   1   0   0   0   0   0  \n",
       "1    NaN   1   0   0   0   0   0  \n",
       "2    NaN   1   0   0   0   0   0  \n",
       "3    NaN   1   0   0   0   0   0  \n",
       "4    NaN   0   0   0   0   0   0  \n",
       "5    NaN   0   0   0   0   0   0  \n",
       "6    NaN   0   1   0   0   0   0  \n",
       "7    NaN   0   1   0   0   0   0  \n",
       "8    NaN   0   1   0   0   0   0  \n",
       "9    NaN   0   0   0   0   0   0  \n",
       "10   NaN   0   1   0   0   0   0  \n",
       "11  50.0   0   1   0   0   0   0  \n",
       "12   NaN   0   0   0   0   0   0  \n",
       "13   NaN   0   0   0   0   0   0  \n",
       "14   NaN   0   0   0   0   0   0  \n",
       "15   NaN   0   0   0   0   0   0  \n",
       "16   NaN   0   1   0   0   0   0  \n",
       "17   NaN   0   1   0   0   0   0  \n",
       "18   NaN   0   0   0   0   0   0  \n",
       "19  40.7   0   0   0   0   0   0  "
      ]
     },
     "execution_count": 8,
     "metadata": {},
     "output_type": "execute_result"
    }
   ],
   "source": [
    "df.head(20)"
   ]
  },
  {
   "cell_type": "code",
   "execution_count": 9,
   "id": "603883a9",
   "metadata": {},
   "outputs": [
    {
     "data": {
      "text/plain": [
       "Y         0\n",
       "M         0\n",
       "D         0\n",
       "T         0\n",
       "TM        0\n",
       "Tm        0\n",
       "SLP     925\n",
       "STP     274\n",
       "H         4\n",
       "PP        2\n",
       "VV        0\n",
       "V         0\n",
       "VM        5\n",
       "VG     1503\n",
       "FG        0\n",
       "RA        0\n",
       "SN        0\n",
       "GR        0\n",
       "TS        0\n",
       "TR        0\n",
       "dtype: int64"
      ]
     },
     "execution_count": 9,
     "metadata": {},
     "output_type": "execute_result"
    }
   ],
   "source": [
    "df.isnull().sum()"
   ]
  },
  {
   "cell_type": "code",
   "execution_count": 10,
   "id": "6e8a2c65",
   "metadata": {},
   "outputs": [],
   "source": [
    "# filling null values of Int Variables using mean\n",
    "colname = [\"STP\",\"H\",\"PP\",\"VM\"]\n",
    "\n",
    "for i in colname:\n",
    "    df[i].fillna(df[i].mean(),inplace = True)"
   ]
  },
  {
   "cell_type": "code",
   "execution_count": 11,
   "id": "01e5cab0",
   "metadata": {
    "scrolled": true
   },
   "outputs": [
    {
     "name": "stdout",
     "output_type": "stream",
     "text": [
      "FG\n",
      "0    1715\n",
      "1     111\n",
      "Name: FG, dtype: int64\n",
      "\n",
      "RA\n",
      "0    1396\n",
      "1     430\n",
      "Name: RA, dtype: int64\n",
      "\n",
      "SN\n",
      "0    1818\n",
      "1       8\n",
      "Name: SN, dtype: int64\n",
      "\n",
      "GR\n",
      "0    1815\n",
      "1      11\n",
      "Name: GR, dtype: int64\n",
      "\n",
      "TS\n",
      "0    1719\n",
      "1     107\n",
      "Name: TS, dtype: int64\n",
      "\n",
      "TR\n",
      "0    1826\n",
      "Name: TR, dtype: int64\n",
      "\n"
     ]
    }
   ],
   "source": [
    "col = [\"FG\",\"RA\",\"SN\",\"GR\",\"TS\",\"TR\"]\n",
    "\n",
    "for i in col:\n",
    "    print(i)\n",
    "    print(df[i].value_counts())\n",
    "    print()"
   ]
  },
  {
   "cell_type": "markdown",
   "id": "ac2d3daa",
   "metadata": {},
   "source": [
    "there was no occurence of tornado in the data so droping TR variable"
   ]
  },
  {
   "cell_type": "code",
   "execution_count": 12,
   "id": "c330a2fe",
   "metadata": {},
   "outputs": [],
   "source": [
    "#droping variables which has high number of null values \n",
    "#droping TR(occurence of Tornado) column, as there are no occurence of tornado\n",
    "df.drop([\"SLP\",\"VG\",\"TR\"],axis =1,inplace = True)"
   ]
  },
  {
   "cell_type": "code",
   "execution_count": 13,
   "id": "352f101f",
   "metadata": {
    "scrolled": true
   },
   "outputs": [
    {
     "data": {
      "text/plain": [
       "Y      0\n",
       "M      0\n",
       "D      0\n",
       "T      0\n",
       "TM     0\n",
       "Tm     0\n",
       "STP    0\n",
       "H      0\n",
       "PP     0\n",
       "VV     0\n",
       "V      0\n",
       "VM     0\n",
       "FG     0\n",
       "RA     0\n",
       "SN     0\n",
       "GR     0\n",
       "TS     0\n",
       "dtype: int64"
      ]
     },
     "execution_count": 13,
     "metadata": {},
     "output_type": "execute_result"
    }
   ],
   "source": [
    "df.isnull().sum()"
   ]
  },
  {
   "cell_type": "code",
   "execution_count": 14,
   "id": "af82ec54",
   "metadata": {},
   "outputs": [
    {
     "name": "stdout",
     "output_type": "stream",
     "text": [
      "Y\n"
     ]
    },
    {
     "data": {
      "image/png": "[encoded data removed]",
      "text/plain": [
       "<Figure size 432x288 with 1 Axes>"
      ]
     },
     "metadata": {
      "needs_background": "light"
     },
     "output_type": "display_data"
    },
    {
     "name": "stdout",
     "output_type": "stream",
     "text": [
      "M\n"
     ]
    },
    {
     "data": {
      "image/png": "[encoded data removed]",
      "text/plain": [
       "<Figure size 432x288 with 1 Axes>"
      ]
     },
     "metadata": {
      "needs_background": "light"
     },
     "output_type": "display_data"
    },
    {
     "name": "stdout",
     "output_type": "stream",
     "text": [
      "D\n"
     ]
    },
    {
     "data": {
      "image/png": "[encoded data removed]",
      "text/plain": [
       "<Figure size 432x288 with 1 Axes>"
      ]
     },
     "metadata": {
      "needs_background": "light"
     },
     "output_type": "display_data"
    },
    {
     "name": "stdout",
     "output_type": "stream",
     "text": [
      "T\n"
     ]
    },
    {
     "data": {
      "image/png": "[encoded data removed]",
      "text/plain": [
       "<Figure size 432x288 with 1 Axes>"
      ]
     },
     "metadata": {
      "needs_background": "light"
     },
     "output_type": "display_data"
    },
    {
     "name": "stdout",
     "output_type": "stream",
     "text": [
      "TM\n"
     ]
    },
    {
     "data": {
      "image/png": "[encoded data removed]",
      "text/plain": [
       "<Figure size 432x288 with 1 Axes>"
      ]
     },
     "metadata": {
      "needs_background": "light"
     },
     "output_type": "display_data"
    },
    {
     "name": "stdout",
     "output_type": "stream",
     "text": [
      "Tm\n"
     ]
    },
    {
     "data": {
      "image/png": "[encoded data removed]",
      "text/plain": [
       "<Figure size 432x288 with 1 Axes>"
      ]
     },
     "metadata": {
      "needs_background": "light"
     },
     "output_type": "display_data"
    },
    {
     "name": "stdout",
     "output_type": "stream",
     "text": [
      "STP\n"
     ]
    },
    {
     "data": {
      "image/png": "[encoded data removed]",
      "text/plain": [
       "<Figure size 432x288 with 1 Axes>"
      ]
     },
     "metadata": {
      "needs_background": "light"
     },
     "output_type": "display_data"
    },
    {
     "name": "stdout",
     "output_type": "stream",
     "text": [
      "H\n"
     ]
    },
    {
     "data": {
      "image/png": "[encoded data removed]",
      "text/plain": [
       "<Figure size 432x288 with 1 Axes>"
      ]
     },
     "metadata": {
      "needs_background": "light"
     },
     "output_type": "display_data"
    },
    {
     "name": "stdout",
     "output_type": "stream",
     "text": [
      "PP\n"
     ]
    },
    {
     "data": {
      "image/png": "[encoded data removed]",
      "text/plain": [
       "<Figure size 432x288 with 1 Axes>"
      ]
     },
     "metadata": {
      "needs_background": "light"
     },
     "output_type": "display_data"
    },
    {
     "name": "stdout",
     "output_type": "stream",
     "text": [
      "VV\n"
     ]
    },
    {
     "data": {
      "image/png": "[encoded data removed]",
      "text/plain": [
       "<Figure size 432x288 with 1 Axes>"
      ]
     },
     "metadata": {
      "needs_background": "light"
     },
     "output_type": "display_data"
    },
    {
     "name": "stdout",
     "output_type": "stream",
     "text": [
      "V\n"
     ]
    },
    {
     "data": {
      "image/png": "[encoded data removed]",
      "text/plain": [
       "<Figure size 432x288 with 1 Axes>"
      ]
     },
     "metadata": {
      "needs_background": "light"
     },
     "output_type": "display_data"
    },
    {
     "name": "stdout",
     "output_type": "stream",
     "text": [
      "VM\n"
     ]
    },
    {
     "data": {
      "image/png": "[encoded data removed]",
      "text/plain": [
       "<Figure size 432x288 with 1 Axes>"
      ]
     },
     "metadata": {
      "needs_background": "light"
     },
     "output_type": "display_data"
    },
    {
     "name": "stdout",
     "output_type": "stream",
     "text": [
      "FG\n"
     ]
    },
    {
     "data": {
      "image/png": "[encoded data removed]",
      "text/plain": [
       "<Figure size 432x288 with 1 Axes>"
      ]
     },
     "metadata": {
      "needs_background": "light"
     },
     "output_type": "display_data"
    },
    {
     "name": "stdout",
     "output_type": "stream",
     "text": [
      "RA\n"
     ]
    },
    {
     "data": {
      "image/png": "[encoded data removed]",
      "text/plain": [
       "<Figure size 432x288 with 1 Axes>"
      ]
     },
     "metadata": {
      "needs_background": "light"
     },
     "output_type": "display_data"
    },
    {
     "name": "stdout",
     "output_type": "stream",
     "text": [
      "SN\n"
     ]
    },
    {
     "data": {
      "image/png": "[encoded data removed]",
      "text/plain": [
       "<Figure size 432x288 with 1 Axes>"
      ]
     },
     "metadata": {
      "needs_background": "light"
     },
     "output_type": "display_data"
    },
    {
     "name": "stdout",
     "output_type": "stream",
     "text": [
      "GR\n"
     ]
    },
    {
     "data": {
      "image/png": "[encoded data removed]",
      "text/plain": [
       "<Figure size 432x288 with 1 Axes>"
      ]
     },
     "metadata": {
      "needs_background": "light"
     },
     "output_type": "display_data"
    },
    {
     "name": "stdout",
     "output_type": "stream",
     "text": [
      "TS\n"
     ]
    },
    {
     "data": {
      "image/png": "[encoded data removed]",
      "text/plain": [
       "<Figure size 432x288 with 1 Axes>"
      ]
     },
     "metadata": {
      "needs_background": "light"
     },
     "output_type": "display_data"
    }
   ],
   "source": [
    "#checking for Outliers in data\n",
    "for x in df.columns:\n",
    "    df.boxplot(column = x)\n",
    "    print(x)\n",
    "    plt.show()"
   ]
  },
  {
   "cell_type": "markdown",
   "id": "26cc368f",
   "metadata": {},
   "source": [
    "there are no outliers in this data"
   ]
  },
  {
   "cell_type": "code",
   "execution_count": 15,
   "id": "aee4a0b4",
   "metadata": {},
   "outputs": [
    {
     "data": {
      "text/html": [
       "<div>\n",
       "<style scoped>\n",
       "    .dataframe tbody tr th:only-of-type {\n",
       "        vertical-align: middle;\n",
       "    }\n",
       "\n",
       "    .dataframe tbody tr th {\n",
       "        vertical-align: top;\n",
       "    }\n",
       "\n",
       "    .dataframe thead th {\n",
       "        text-align: right;\n",
       "    }\n",
       "</style>\n",
       "<table border=\"1\" class=\"dataframe\">\n",
       "  <thead>\n",
       "    <tr style=\"text-align: right;\">\n",
       "      <th></th>\n",
       "      <th>Y</th>\n",
       "      <th>M</th>\n",
       "      <th>D</th>\n",
       "      <th>T</th>\n",
       "      <th>TM</th>\n",
       "      <th>Tm</th>\n",
       "      <th>STP</th>\n",
       "      <th>H</th>\n",
       "      <th>PP</th>\n",
       "      <th>VV</th>\n",
       "      <th>V</th>\n",
       "      <th>VM</th>\n",
       "      <th>FG</th>\n",
       "      <th>RA</th>\n",
       "      <th>SN</th>\n",
       "      <th>GR</th>\n",
       "      <th>TS</th>\n",
       "    </tr>\n",
       "  </thead>\n",
       "  <tbody>\n",
       "    <tr>\n",
       "      <th>0</th>\n",
       "      <td>1991</td>\n",
       "      <td>1</td>\n",
       "      <td>1</td>\n",
       "      <td>5.3</td>\n",
       "      <td>9.6</td>\n",
       "      <td>0.0</td>\n",
       "      <td>950.897229</td>\n",
       "      <td>86.0</td>\n",
       "      <td>0.0</td>\n",
       "      <td>3.4</td>\n",
       "      <td>2.4</td>\n",
       "      <td>13.0</td>\n",
       "      <td>1</td>\n",
       "      <td>0</td>\n",
       "      <td>0</td>\n",
       "      <td>0</td>\n",
       "      <td>0</td>\n",
       "    </tr>\n",
       "    <tr>\n",
       "      <th>1</th>\n",
       "      <td>1991</td>\n",
       "      <td>1</td>\n",
       "      <td>2</td>\n",
       "      <td>2.6</td>\n",
       "      <td>6.4</td>\n",
       "      <td>0.0</td>\n",
       "      <td>950.897229</td>\n",
       "      <td>88.0</td>\n",
       "      <td>0.0</td>\n",
       "      <td>3.7</td>\n",
       "      <td>4.1</td>\n",
       "      <td>11.1</td>\n",
       "      <td>1</td>\n",
       "      <td>0</td>\n",
       "      <td>0</td>\n",
       "      <td>0</td>\n",
       "      <td>0</td>\n",
       "    </tr>\n",
       "    <tr>\n",
       "      <th>2</th>\n",
       "      <td>1991</td>\n",
       "      <td>1</td>\n",
       "      <td>3</td>\n",
       "      <td>2.3</td>\n",
       "      <td>5.2</td>\n",
       "      <td>-1.0</td>\n",
       "      <td>950.897229</td>\n",
       "      <td>87.0</td>\n",
       "      <td>0.0</td>\n",
       "      <td>2.6</td>\n",
       "      <td>2.0</td>\n",
       "      <td>9.4</td>\n",
       "      <td>1</td>\n",
       "      <td>0</td>\n",
       "      <td>0</td>\n",
       "      <td>0</td>\n",
       "      <td>0</td>\n",
       "    </tr>\n",
       "    <tr>\n",
       "      <th>3</th>\n",
       "      <td>1991</td>\n",
       "      <td>1</td>\n",
       "      <td>4</td>\n",
       "      <td>3.9</td>\n",
       "      <td>10.0</td>\n",
       "      <td>0.0</td>\n",
       "      <td>950.897229</td>\n",
       "      <td>63.0</td>\n",
       "      <td>0.0</td>\n",
       "      <td>8.0</td>\n",
       "      <td>4.4</td>\n",
       "      <td>25.9</td>\n",
       "      <td>1</td>\n",
       "      <td>0</td>\n",
       "      <td>0</td>\n",
       "      <td>0</td>\n",
       "      <td>0</td>\n",
       "    </tr>\n",
       "    <tr>\n",
       "      <th>4</th>\n",
       "      <td>1991</td>\n",
       "      <td>1</td>\n",
       "      <td>5</td>\n",
       "      <td>2.9</td>\n",
       "      <td>10.4</td>\n",
       "      <td>-3.0</td>\n",
       "      <td>950.897229</td>\n",
       "      <td>69.0</td>\n",
       "      <td>0.0</td>\n",
       "      <td>10.5</td>\n",
       "      <td>5.2</td>\n",
       "      <td>18.3</td>\n",
       "      <td>0</td>\n",
       "      <td>0</td>\n",
       "      <td>0</td>\n",
       "      <td>0</td>\n",
       "      <td>0</td>\n",
       "    </tr>\n",
       "  </tbody>\n",
       "</table>\n",
       "</div>"
      ],
      "text/plain": [
       "      Y  M  D    T    TM   Tm         STP     H   PP    VV    V    VM  FG  RA  \\\n",
       "0  1991  1  1  5.3   9.6  0.0  950.897229  86.0  0.0   3.4  2.4  13.0   1   0   \n",
       "1  1991  1  2  2.6   6.4  0.0  950.897229  88.0  0.0   3.7  4.1  11.1   1   0   \n",
       "2  1991  1  3  2.3   5.2 -1.0  950.897229  87.0  0.0   2.6  2.0   9.4   1   0   \n",
       "3  1991  1  4  3.9  10.0  0.0  950.897229  63.0  0.0   8.0  4.4  25.9   1   0   \n",
       "4  1991  1  5  2.9  10.4 -3.0  950.897229  69.0  0.0  10.5  5.2  18.3   0   0   \n",
       "\n",
       "   SN  GR  TS  \n",
       "0   0   0   0  \n",
       "1   0   0   0  \n",
       "2   0   0   0  \n",
       "3   0   0   0  \n",
       "4   0   0   0  "
      ]
     },
     "execution_count": 15,
     "metadata": {},
     "output_type": "execute_result"
    }
   ],
   "source": [
    "df.head()"
   ]
  },
  {
   "cell_type": "markdown",
   "id": "dc7462e1",
   "metadata": {},
   "source": [
    " this data has multiple Y-variables"
   ]
  },
  {
   "cell_type": "markdown",
   "id": "a5e655c8",
   "metadata": {},
   "source": [
    "FG - Fog , RA - Rain , SN - Snow , GR - Hail , Ts - Thunder\n"
   ]
  },
  {
   "cell_type": "markdown",
   "id": "85b0826b",
   "metadata": {},
   "source": [
    "Combining all of them to single Y-variable with different classes."
   ]
  },
  {
   "cell_type": "code",
   "execution_count": 16,
   "id": "184ff98a",
   "metadata": {},
   "outputs": [],
   "source": [
    "#mapping the occurence of event into string for further processing\n",
    "df[\"FG\"]=df[\"FG\"].map({1: \"FogY\",0 : \"FogN\"})\n",
    "df[\"RA\"] = df[\"RA\"].map({1: \"RainY\",0 :\"RainN\"})\n",
    "df[\"SN\"] = df[\"SN\"].map({1:\"SnowY\",0:\"SnowN\"})\n",
    "df[\"GR\"] = df[\"GR\"].map({1:\"HailY\",0:\"HailN\"})\n",
    "df[\"TS\"] = df[\"TS\"].map({1:\"ThunderY\",0:\"ThunderN\"})"
   ]
  },
  {
   "cell_type": "code",
   "execution_count": 17,
   "id": "df5f4b33",
   "metadata": {},
   "outputs": [],
   "source": [
    "#joing all Y-variables into one column(\"Climate\")\n",
    "df[\"Climate\"] = df[df.columns[-5:]].apply(\n",
    "    lambda x: ','.join(x.dropna().astype(str)),\n",
    "    axis=1)"
   ]
  },
  {
   "cell_type": "code",
   "execution_count": 18,
   "id": "d861697c",
   "metadata": {},
   "outputs": [],
   "source": [
    "#giving values to every possible class in the joined Column(\"Climate\") with the help of the dictionary\n",
    "#these values will be uses as individual class\n",
    "ka ={'FogY,RainN,SnowN,HailN,ThunderN':\"Fog\",\n",
    "'FogN,RainN,SnowN,HailN,ThunderN':\"Sunny\",\n",
    "'FogN,RainY,SnowN,HailN,ThunderN':\"Rain\",\n",
    "'FogY,RainY,SnowN,HailN,ThunderN':\"Rain&Fog\",\n",
    "'FogY,RainY,SnowY,HailN,ThunderN':\"Fog&Sleet\",\n",
    "'FogN,RainY,SnowY,HailN,ThunderN':\"Sleet\",\n",
    "'FogN,RainY,SnowN,HailY,ThunderN':\"Rain&Hail\",\n",
    "'FogN,RainY,SnowN,HailN,ThunderY':\"Rain&Thunder\",\n",
    "'FogN,RainN,SnowN,HailN,ThunderY':\"Thunder\",\n",
    "'FogN,RainY,SnowN,HailY,ThunderY':\"Rain&Hail&Thunder\",\n",
    "'FogY,RainY,SnowN,HailY,ThunderN':\"Fog&Rain&Thunder\",\n",
    "'FogN,RainN,SnowY,HailN,ThunderN':\"Snow\",\n",
    "'FogN,RainY,SnowY,HailY,ThunderN':\"Graupel\",\n",
    "'FogN,RainY,SnowY,HailY,ThunderY':\"Graupel&Thundersnow\"}"
   ]
  },
  {
   "cell_type": "code",
   "execution_count": 19,
   "id": "e71528d1",
   "metadata": {},
   "outputs": [],
   "source": [
    "df[\"Climate\"] = df[\"Climate\"].map(ka)"
   ]
  },
  {
   "cell_type": "code",
   "execution_count": 20,
   "id": "7894f13d",
   "metadata": {
    "scrolled": true
   },
   "outputs": [
    {
     "data": {
      "text/plain": [
       "Sunny                  1285\n",
       "Rain                    311\n",
       "Fog                      89\n",
       "Rain&Thunder             83\n",
       "Thunder                  21\n",
       "Rain&Fog                 20\n",
       "Rain&Hail                 6\n",
       "Sleet                     4\n",
       "Rain&Hail&Thunder         2\n",
       "Fog&Sleet                 1\n",
       "Fog&Rain&Thunder          1\n",
       "Snow                      1\n",
       "Graupel                   1\n",
       "Graupel&Thundersnow       1\n",
       "Name: Climate, dtype: int64"
      ]
     },
     "execution_count": 20,
     "metadata": {},
     "output_type": "execute_result"
    }
   ],
   "source": [
    " df[\"Climate\"].value_counts()"
   ]
  },
  {
   "cell_type": "markdown",
   "id": "41678b06",
   "metadata": {},
   "source": [
    "keeping only the important classes and sufficient observation"
   ]
  },
  {
   "cell_type": "code",
   "execution_count": 21,
   "id": "b2e4439b",
   "metadata": {},
   "outputs": [
    {
     "name": "stdout",
     "output_type": "stream",
     "text": [
      "Index(['Rain&Hail', 'Sleet', 'Rain&Hail&Thunder', 'Fog&Sleet',\n",
      "       'Fog&Rain&Thunder', 'Snow', 'Graupel', 'Graupel&Thundersnow'],\n",
      "      dtype='object')\n"
     ]
    }
   ],
   "source": [
    "value_counts = df['Climate'].value_counts()\n",
    "\n",
    "# Select the values where the count is less than equal to \n",
    "to_remove = value_counts[(value_counts <= 6)].index\n",
    "print(to_remove)\n",
    "# Keep rows where the city column is not in to_remove\n",
    "df = df[~df.Climate.isin(to_remove)]"
   ]
  },
  {
   "cell_type": "code",
   "execution_count": 22,
   "id": "20a5b441",
   "metadata": {},
   "outputs": [
    {
     "name": "stdout",
     "output_type": "stream",
     "text": [
      "Index(['Rain&Thunder'], dtype='object')\n"
     ]
    }
   ],
   "source": [
    "value_counts = df['Climate'].value_counts()\n",
    "\n",
    "to_remove = value_counts[(value_counts == 83)].index\n",
    "print(to_remove)\n",
    " #Keep rows where the city column is not in to_remove\n",
    "df = df[~df.Climate.isin(to_remove)]"
   ]
  },
  {
   "cell_type": "code",
   "execution_count": 23,
   "id": "19e7a619",
   "metadata": {},
   "outputs": [
    {
     "name": "stdout",
     "output_type": "stream",
     "text": [
      "Index(['Rain&Fog'], dtype='object')\n"
     ]
    }
   ],
   "source": [
    "value_counts = df['Climate'].value_counts()\n",
    "\n",
    "to_remove = value_counts[(value_counts == 20)].index\n",
    "print(to_remove)\n",
    "# Keep rows where the city column is not in to_remove\n",
    "df = df[~df.Climate.isin(to_remove)]"
   ]
  },
  {
   "cell_type": "code",
   "execution_count": 24,
   "id": "94b8d315",
   "metadata": {
    "scrolled": true
   },
   "outputs": [
    {
     "data": {
      "text/plain": [
       "Sunny      1285\n",
       "Rain        311\n",
       "Fog          89\n",
       "Thunder      21\n",
       "Name: Climate, dtype: int64"
      ]
     },
     "execution_count": 24,
     "metadata": {},
     "output_type": "execute_result"
    }
   ],
   "source": [
    "df.Climate.value_counts()"
   ]
  },
  {
   "cell_type": "code",
   "execution_count": 25,
   "id": "5306dd44",
   "metadata": {},
   "outputs": [],
   "source": [
    "df.drop(df[df[\"Climate\"] == \"Rain&Fog\"].index,inplace = True)\n",
    "df.drop(df[df[\"Climate\"] == \"Rain&Thunder\"].index,inplace = True)"
   ]
  },
  {
   "cell_type": "code",
   "execution_count": 26,
   "id": "cea17f97",
   "metadata": {
    "scrolled": true
   },
   "outputs": [
    {
     "data": {
      "text/plain": [
       "Sunny      1285\n",
       "Rain        311\n",
       "Fog          89\n",
       "Thunder      21\n",
       "Name: Climate, dtype: int64"
      ]
     },
     "execution_count": 26,
     "metadata": {},
     "output_type": "execute_result"
    }
   ],
   "source": [
    "df.Climate.value_counts()"
   ]
  },
  {
   "cell_type": "markdown",
   "id": "863eb35a",
   "metadata": {},
   "source": [
    "creating DateTime object for visualization"
   ]
  },
  {
   "cell_type": "code",
   "execution_count": 27,
   "id": "c9edd627",
   "metadata": {},
   "outputs": [],
   "source": [
    "cols=[\"Y\",\"M\",\"D\"]\n",
    "df['date'] = df[cols].apply(lambda x: '-'.join(x.values.astype(str)), axis=\"columns\")\n",
    "df['date']=pd.to_datetime(df['date'])"
   ]
  },
  {
   "cell_type": "code",
   "execution_count": 28,
   "id": "51221ae9",
   "metadata": {
    "scrolled": true
   },
   "outputs": [
    {
     "data": {
      "text/html": [
       "<div>\n",
       "<style scoped>\n",
       "    .dataframe tbody tr th:only-of-type {\n",
       "        vertical-align: middle;\n",
       "    }\n",
       "\n",
       "    .dataframe tbody tr th {\n",
       "        vertical-align: top;\n",
       "    }\n",
       "\n",
       "    .dataframe thead th {\n",
       "        text-align: right;\n",
       "    }\n",
       "</style>\n",
       "<table border=\"1\" class=\"dataframe\">\n",
       "  <thead>\n",
       "    <tr style=\"text-align: right;\">\n",
       "      <th></th>\n",
       "      <th>Y</th>\n",
       "      <th>M</th>\n",
       "      <th>D</th>\n",
       "      <th>T</th>\n",
       "      <th>TM</th>\n",
       "      <th>Tm</th>\n",
       "      <th>STP</th>\n",
       "      <th>H</th>\n",
       "      <th>PP</th>\n",
       "      <th>VV</th>\n",
       "      <th>V</th>\n",
       "      <th>VM</th>\n",
       "      <th>FG</th>\n",
       "      <th>RA</th>\n",
       "      <th>SN</th>\n",
       "      <th>GR</th>\n",
       "      <th>TS</th>\n",
       "      <th>Climate</th>\n",
       "      <th>date</th>\n",
       "    </tr>\n",
       "  </thead>\n",
       "  <tbody>\n",
       "    <tr>\n",
       "      <th>0</th>\n",
       "      <td>1991</td>\n",
       "      <td>1</td>\n",
       "      <td>1</td>\n",
       "      <td>5.3</td>\n",
       "      <td>9.6</td>\n",
       "      <td>0.0</td>\n",
       "      <td>950.897229</td>\n",
       "      <td>86.0</td>\n",
       "      <td>0.0</td>\n",
       "      <td>3.4</td>\n",
       "      <td>2.4</td>\n",
       "      <td>13.0</td>\n",
       "      <td>FogY</td>\n",
       "      <td>RainN</td>\n",
       "      <td>SnowN</td>\n",
       "      <td>HailN</td>\n",
       "      <td>ThunderN</td>\n",
       "      <td>Fog</td>\n",
       "      <td>1991-01-01</td>\n",
       "    </tr>\n",
       "    <tr>\n",
       "      <th>1</th>\n",
       "      <td>1991</td>\n",
       "      <td>1</td>\n",
       "      <td>2</td>\n",
       "      <td>2.6</td>\n",
       "      <td>6.4</td>\n",
       "      <td>0.0</td>\n",
       "      <td>950.897229</td>\n",
       "      <td>88.0</td>\n",
       "      <td>0.0</td>\n",
       "      <td>3.7</td>\n",
       "      <td>4.1</td>\n",
       "      <td>11.1</td>\n",
       "      <td>FogY</td>\n",
       "      <td>RainN</td>\n",
       "      <td>SnowN</td>\n",
       "      <td>HailN</td>\n",
       "      <td>ThunderN</td>\n",
       "      <td>Fog</td>\n",
       "      <td>1991-01-02</td>\n",
       "    </tr>\n",
       "    <tr>\n",
       "      <th>2</th>\n",
       "      <td>1991</td>\n",
       "      <td>1</td>\n",
       "      <td>3</td>\n",
       "      <td>2.3</td>\n",
       "      <td>5.2</td>\n",
       "      <td>-1.0</td>\n",
       "      <td>950.897229</td>\n",
       "      <td>87.0</td>\n",
       "      <td>0.0</td>\n",
       "      <td>2.6</td>\n",
       "      <td>2.0</td>\n",
       "      <td>9.4</td>\n",
       "      <td>FogY</td>\n",
       "      <td>RainN</td>\n",
       "      <td>SnowN</td>\n",
       "      <td>HailN</td>\n",
       "      <td>ThunderN</td>\n",
       "      <td>Fog</td>\n",
       "      <td>1991-01-03</td>\n",
       "    </tr>\n",
       "    <tr>\n",
       "      <th>3</th>\n",
       "      <td>1991</td>\n",
       "      <td>1</td>\n",
       "      <td>4</td>\n",
       "      <td>3.9</td>\n",
       "      <td>10.0</td>\n",
       "      <td>0.0</td>\n",
       "      <td>950.897229</td>\n",
       "      <td>63.0</td>\n",
       "      <td>0.0</td>\n",
       "      <td>8.0</td>\n",
       "      <td>4.4</td>\n",
       "      <td>25.9</td>\n",
       "      <td>FogY</td>\n",
       "      <td>RainN</td>\n",
       "      <td>SnowN</td>\n",
       "      <td>HailN</td>\n",
       "      <td>ThunderN</td>\n",
       "      <td>Fog</td>\n",
       "      <td>1991-01-04</td>\n",
       "    </tr>\n",
       "    <tr>\n",
       "      <th>4</th>\n",
       "      <td>1991</td>\n",
       "      <td>1</td>\n",
       "      <td>5</td>\n",
       "      <td>2.9</td>\n",
       "      <td>10.4</td>\n",
       "      <td>-3.0</td>\n",
       "      <td>950.897229</td>\n",
       "      <td>69.0</td>\n",
       "      <td>0.0</td>\n",
       "      <td>10.5</td>\n",
       "      <td>5.2</td>\n",
       "      <td>18.3</td>\n",
       "      <td>FogN</td>\n",
       "      <td>RainN</td>\n",
       "      <td>SnowN</td>\n",
       "      <td>HailN</td>\n",
       "      <td>ThunderN</td>\n",
       "      <td>Sunny</td>\n",
       "      <td>1991-01-05</td>\n",
       "    </tr>\n",
       "  </tbody>\n",
       "</table>\n",
       "</div>"
      ],
      "text/plain": [
       "      Y  M  D    T    TM   Tm         STP     H   PP    VV    V    VM    FG  \\\n",
       "0  1991  1  1  5.3   9.6  0.0  950.897229  86.0  0.0   3.4  2.4  13.0  FogY   \n",
       "1  1991  1  2  2.6   6.4  0.0  950.897229  88.0  0.0   3.7  4.1  11.1  FogY   \n",
       "2  1991  1  3  2.3   5.2 -1.0  950.897229  87.0  0.0   2.6  2.0   9.4  FogY   \n",
       "3  1991  1  4  3.9  10.0  0.0  950.897229  63.0  0.0   8.0  4.4  25.9  FogY   \n",
       "4  1991  1  5  2.9  10.4 -3.0  950.897229  69.0  0.0  10.5  5.2  18.3  FogN   \n",
       "\n",
       "      RA     SN     GR        TS Climate       date  \n",
       "0  RainN  SnowN  HailN  ThunderN     Fog 1991-01-01  \n",
       "1  RainN  SnowN  HailN  ThunderN     Fog 1991-01-02  \n",
       "2  RainN  SnowN  HailN  ThunderN     Fog 1991-01-03  \n",
       "3  RainN  SnowN  HailN  ThunderN     Fog 1991-01-04  \n",
       "4  RainN  SnowN  HailN  ThunderN   Sunny 1991-01-05  "
      ]
     },
     "execution_count": 28,
     "metadata": {},
     "output_type": "execute_result"
    }
   ],
   "source": [
    "df.head()"
   ]
  },
  {
   "cell_type": "code",
   "execution_count": 29,
   "id": "7c0355b3",
   "metadata": {},
   "outputs": [
    {
     "data": {
      "image/png": "[encoded data removed]",
      "text/plain": [
       "<Figure size 720x720 with 1 Axes>"
      ]
     },
     "metadata": {
      "needs_background": "light"
     },
     "output_type": "display_data"
    }
   ],
   "source": [
    "import matplotlib as mpl\n",
    "import matplotlib.pyplot as plt\n",
    "\n",
    "fig, currAX = plt.subplots(figsize=(10,10\n",
    "                                   ))\n",
    "label_format = {'fontsize':12, 'fontweight':'bold'}\n",
    "title_format = {'fontsize':15, 'fontweight':'bold'}\n",
    "\n",
    "\n",
    "currAX.plot(df[\"date\"], df[\"Climate\"], color='crimson', linestyle='-')\n",
    "\n",
    "\n",
    "currAX.xaxis.set_major_formatter(mpl.dates.DateFormatter('%Y-%m'))\n",
    "\n",
    "currAX.spines['top'].set_visible(False)\n",
    "currAX.spines['right'].set_visible(False)\n",
    "currAX.spines['left'].set_visible(False)\n",
    "\n",
    "currAX.set_xlabel('Review Period', **label_format)\n",
    "currAX.set_ylabel('Review Rating', **label_format)\n",
    "\n",
    "### tell matplotlib the ticks and labels to use on Y-axis\n",
    "\n",
    "\n",
    "currAX.set_yticks(df[\"Climate\"]) \n",
    "currAX.set_yticklabels( df[\"Climate\"]) \n",
    "\n",
    "fig.tight_layout()\n",
    "plt.show();"
   ]
  },
  {
   "cell_type": "markdown",
   "id": "97f45e96",
   "metadata": {},
   "source": [
    " - in this graph we can just see that there is no particular season for Rain And Sunny Days it can happen anytime in the Year\n",
    " - we can see the fog mostly appear in the end and start of every Year \n",
    " - aslo we can see Thunders occures mostly in the middle of the year apporximately in (june,july,august,september,october)"
   ]
  },
  {
   "cell_type": "code",
   "execution_count": 30,
   "id": "e71140f3",
   "metadata": {},
   "outputs": [],
   "source": [
    "#droping all redundant variable and alsp M(Month) and D(Day) from the data\n",
    "df.drop([\"FG\",\"RA\",\"SN\",\"GR\",\"TS\",\"date\",\"M\",\"D\"],axis=1,inplace = True)"
   ]
  },
  {
   "cell_type": "code",
   "execution_count": 31,
   "id": "4df2928b",
   "metadata": {
    "scrolled": true
   },
   "outputs": [],
   "source": [
    "#reseting Index\n",
    "df =df.reset_index(drop =True)"
   ]
  },
  {
   "cell_type": "code",
   "execution_count": 32,
   "id": "311cbacc",
   "metadata": {
    "scrolled": false
   },
   "outputs": [
    {
     "data": {
      "text/html": [
       "<div>\n",
       "<style scoped>\n",
       "    .dataframe tbody tr th:only-of-type {\n",
       "        vertical-align: middle;\n",
       "    }\n",
       "\n",
       "    .dataframe tbody tr th {\n",
       "        vertical-align: top;\n",
       "    }\n",
       "\n",
       "    .dataframe thead th {\n",
       "        text-align: right;\n",
       "    }\n",
       "</style>\n",
       "<table border=\"1\" class=\"dataframe\">\n",
       "  <thead>\n",
       "    <tr style=\"text-align: right;\">\n",
       "      <th></th>\n",
       "      <th>Y</th>\n",
       "      <th>T</th>\n",
       "      <th>TM</th>\n",
       "      <th>Tm</th>\n",
       "      <th>STP</th>\n",
       "      <th>H</th>\n",
       "      <th>PP</th>\n",
       "      <th>VV</th>\n",
       "      <th>V</th>\n",
       "      <th>VM</th>\n",
       "      <th>Climate</th>\n",
       "    </tr>\n",
       "  </thead>\n",
       "  <tbody>\n",
       "    <tr>\n",
       "      <th>0</th>\n",
       "      <td>1991</td>\n",
       "      <td>5.3</td>\n",
       "      <td>9.6</td>\n",
       "      <td>0.0</td>\n",
       "      <td>950.897229</td>\n",
       "      <td>86.0</td>\n",
       "      <td>0.00</td>\n",
       "      <td>3.4</td>\n",
       "      <td>2.4</td>\n",
       "      <td>13.0</td>\n",
       "      <td>Fog</td>\n",
       "    </tr>\n",
       "    <tr>\n",
       "      <th>1</th>\n",
       "      <td>1991</td>\n",
       "      <td>2.6</td>\n",
       "      <td>6.4</td>\n",
       "      <td>0.0</td>\n",
       "      <td>950.897229</td>\n",
       "      <td>88.0</td>\n",
       "      <td>0.00</td>\n",
       "      <td>3.7</td>\n",
       "      <td>4.1</td>\n",
       "      <td>11.1</td>\n",
       "      <td>Fog</td>\n",
       "    </tr>\n",
       "    <tr>\n",
       "      <th>2</th>\n",
       "      <td>1991</td>\n",
       "      <td>2.3</td>\n",
       "      <td>5.2</td>\n",
       "      <td>-1.0</td>\n",
       "      <td>950.897229</td>\n",
       "      <td>87.0</td>\n",
       "      <td>0.00</td>\n",
       "      <td>2.6</td>\n",
       "      <td>2.0</td>\n",
       "      <td>9.4</td>\n",
       "      <td>Fog</td>\n",
       "    </tr>\n",
       "    <tr>\n",
       "      <th>3</th>\n",
       "      <td>1991</td>\n",
       "      <td>3.9</td>\n",
       "      <td>10.0</td>\n",
       "      <td>0.0</td>\n",
       "      <td>950.897229</td>\n",
       "      <td>63.0</td>\n",
       "      <td>0.00</td>\n",
       "      <td>8.0</td>\n",
       "      <td>4.4</td>\n",
       "      <td>25.9</td>\n",
       "      <td>Fog</td>\n",
       "    </tr>\n",
       "    <tr>\n",
       "      <th>4</th>\n",
       "      <td>1991</td>\n",
       "      <td>2.9</td>\n",
       "      <td>10.4</td>\n",
       "      <td>-3.0</td>\n",
       "      <td>950.897229</td>\n",
       "      <td>69.0</td>\n",
       "      <td>0.00</td>\n",
       "      <td>10.5</td>\n",
       "      <td>5.2</td>\n",
       "      <td>18.3</td>\n",
       "      <td>Sunny</td>\n",
       "    </tr>\n",
       "    <tr>\n",
       "      <th>...</th>\n",
       "      <td>...</td>\n",
       "      <td>...</td>\n",
       "      <td>...</td>\n",
       "      <td>...</td>\n",
       "      <td>...</td>\n",
       "      <td>...</td>\n",
       "      <td>...</td>\n",
       "      <td>...</td>\n",
       "      <td>...</td>\n",
       "      <td>...</td>\n",
       "      <td>...</td>\n",
       "    </tr>\n",
       "    <tr>\n",
       "      <th>1701</th>\n",
       "      <td>1995</td>\n",
       "      <td>9.7</td>\n",
       "      <td>11.0</td>\n",
       "      <td>6.5</td>\n",
       "      <td>941.100000</td>\n",
       "      <td>87.0</td>\n",
       "      <td>6.10</td>\n",
       "      <td>10.1</td>\n",
       "      <td>11.7</td>\n",
       "      <td>22.2</td>\n",
       "      <td>Rain</td>\n",
       "    </tr>\n",
       "    <tr>\n",
       "      <th>1702</th>\n",
       "      <td>1995</td>\n",
       "      <td>11.3</td>\n",
       "      <td>14.0</td>\n",
       "      <td>8.0</td>\n",
       "      <td>945.000000</td>\n",
       "      <td>78.0</td>\n",
       "      <td>0.00</td>\n",
       "      <td>12.4</td>\n",
       "      <td>14.6</td>\n",
       "      <td>22.2</td>\n",
       "      <td>Rain</td>\n",
       "    </tr>\n",
       "    <tr>\n",
       "      <th>1703</th>\n",
       "      <td>1995</td>\n",
       "      <td>9.0</td>\n",
       "      <td>10.2</td>\n",
       "      <td>7.6</td>\n",
       "      <td>943.100000</td>\n",
       "      <td>95.0</td>\n",
       "      <td>7.87</td>\n",
       "      <td>6.9</td>\n",
       "      <td>8.5</td>\n",
       "      <td>16.5</td>\n",
       "      <td>Rain</td>\n",
       "    </tr>\n",
       "    <tr>\n",
       "      <th>1704</th>\n",
       "      <td>1995</td>\n",
       "      <td>11.5</td>\n",
       "      <td>14.0</td>\n",
       "      <td>8.8</td>\n",
       "      <td>935.100000</td>\n",
       "      <td>91.0</td>\n",
       "      <td>21.08</td>\n",
       "      <td>10.3</td>\n",
       "      <td>17.8</td>\n",
       "      <td>29.4</td>\n",
       "      <td>Rain</td>\n",
       "    </tr>\n",
       "    <tr>\n",
       "      <th>1705</th>\n",
       "      <td>1995</td>\n",
       "      <td>11.3</td>\n",
       "      <td>14.0</td>\n",
       "      <td>8.0</td>\n",
       "      <td>937.700000</td>\n",
       "      <td>79.0</td>\n",
       "      <td>1.02</td>\n",
       "      <td>12.4</td>\n",
       "      <td>19.8</td>\n",
       "      <td>37.0</td>\n",
       "      <td>Rain</td>\n",
       "    </tr>\n",
       "  </tbody>\n",
       "</table>\n",
       "<p>1706 rows × 11 columns</p>\n",
       "</div>"
      ],
      "text/plain": [
       "         Y     T    TM   Tm         STP     H     PP    VV     V    VM Climate\n",
       "0     1991   5.3   9.6  0.0  950.897229  86.0   0.00   3.4   2.4  13.0     Fog\n",
       "1     1991   2.6   6.4  0.0  950.897229  88.0   0.00   3.7   4.1  11.1     Fog\n",
       "2     1991   2.3   5.2 -1.0  950.897229  87.0   0.00   2.6   2.0   9.4     Fog\n",
       "3     1991   3.9  10.0  0.0  950.897229  63.0   0.00   8.0   4.4  25.9     Fog\n",
       "4     1991   2.9  10.4 -3.0  950.897229  69.0   0.00  10.5   5.2  18.3   Sunny\n",
       "...    ...   ...   ...  ...         ...   ...    ...   ...   ...   ...     ...\n",
       "1701  1995   9.7  11.0  6.5  941.100000  87.0   6.10  10.1  11.7  22.2    Rain\n",
       "1702  1995  11.3  14.0  8.0  945.000000  78.0   0.00  12.4  14.6  22.2    Rain\n",
       "1703  1995   9.0  10.2  7.6  943.100000  95.0   7.87   6.9   8.5  16.5    Rain\n",
       "1704  1995  11.5  14.0  8.8  935.100000  91.0  21.08  10.3  17.8  29.4    Rain\n",
       "1705  1995  11.3  14.0  8.0  937.700000  79.0   1.02  12.4  19.8  37.0    Rain\n",
       "\n",
       "[1706 rows x 11 columns]"
      ]
     },
     "execution_count": 32,
     "metadata": {},
     "output_type": "execute_result"
    }
   ],
   "source": [
    "df"
   ]
  },
  {
   "cell_type": "markdown",
   "id": "7071a1d5",
   "metadata": {},
   "source": [
    "### Visualization of Climate relationship with other Variables"
   ]
  },
  {
   "cell_type": "code",
   "execution_count": 33,
   "id": "9c1b83fb",
   "metadata": {
    "scrolled": true
   },
   "outputs": [
    {
     "name": "stdout",
     "output_type": "stream",
     "text": [
      "Climate And T Bar-Graph\n"
     ]
    },
    {
     "data": {
      "image/png": "[encoded data removed]",
      "text/plain": [
       "<Figure size 432x288 with 1 Axes>"
      ]
     },
     "metadata": {
      "needs_background": "light"
     },
     "output_type": "display_data"
    },
    {
     "name": "stdout",
     "output_type": "stream",
     "text": [
      "Climate And TM Bar-Graph\n"
     ]
    },
    {
     "data": {
      "image/png": "[encoded data removed]",
      "text/plain": [
       "<Figure size 432x288 with 1 Axes>"
      ]
     },
     "metadata": {
      "needs_background": "light"
     },
     "output_type": "display_data"
    },
    {
     "name": "stdout",
     "output_type": "stream",
     "text": [
      "Climate And Tm Bar-Graph\n"
     ]
    },
    {
     "data": {
      "image/png": "[encoded data removed]",
      "text/plain": [
       "<Figure size 432x288 with 1 Axes>"
      ]
     },
     "metadata": {
      "needs_background": "light"
     },
     "output_type": "display_data"
    },
    {
     "name": "stdout",
     "output_type": "stream",
     "text": [
      "Climate And STP Bar-Graph\n"
     ]
    },
    {
     "data": {
      "image/png": "[encoded data removed]",
      "text/plain": [
       "<Figure size 432x288 with 1 Axes>"
      ]
     },
     "metadata": {
      "needs_background": "light"
     },
     "output_type": "display_data"
    },
    {
     "name": "stdout",
     "output_type": "stream",
     "text": [
      "Climate And H Bar-Graph\n"
     ]
    },
    {
     "data": {
      "image/png": "[encoded data removed]",
      "text/plain": [
       "<Figure size 432x288 with 1 Axes>"
      ]
     },
     "metadata": {
      "needs_background": "light"
     },
     "output_type": "display_data"
    },
    {
     "name": "stdout",
     "output_type": "stream",
     "text": [
      "Climate And PP Bar-Graph\n"
     ]
    },
    {
     "data": {
      "image/png": "[encoded data removed]",
      "text/plain": [
       "<Figure size 432x288 with 1 Axes>"
      ]
     },
     "metadata": {
      "needs_background": "light"
     },
     "output_type": "display_data"
    },
    {
     "name": "stdout",
     "output_type": "stream",
     "text": [
      "Climate And VV Bar-Graph\n"
     ]
    },
    {
     "data": {
      "image/png": "[encoded data removed]",
      "text/plain": [
       "<Figure size 432x288 with 1 Axes>"
      ]
     },
     "metadata": {
      "needs_background": "light"
     },
     "output_type": "display_data"
    },
    {
     "name": "stdout",
     "output_type": "stream",
     "text": [
      "Climate And V Bar-Graph\n"
     ]
    },
    {
     "data": {
      "image/png": "[encoded data removed]",
      "text/plain": [
       "<Figure size 432x288 with 1 Axes>"
      ]
     },
     "metadata": {
      "needs_background": "light"
     },
     "output_type": "display_data"
    },
    {
     "name": "stdout",
     "output_type": "stream",
     "text": [
      "Climate And VM Bar-Graph\n"
     ]
    },
    {
     "data": {
      "image/png": "[encoded data removed]",
      "text/plain": [
       "<Figure size 432x288 with 1 Axes>"
      ]
     },
     "metadata": {
      "needs_background": "light"
     },
     "output_type": "display_data"
    }
   ],
   "source": [
    "d = ['T', 'TM', 'Tm', 'STP', 'H', 'PP', 'VV', 'V', 'VM']\n",
    "for i in d:\n",
    "    print(\"Climate And\",i,\"Bar-Graph\")\n",
    "    plt.bar(df[\"Climate\"],df[i])\n",
    "    plt.show()"
   ]
  },
  {
   "cell_type": "markdown",
   "id": "aba6baf4",
   "metadata": {},
   "source": [
    "### Visualization of each Variable with their Data"
   ]
  },
  {
   "cell_type": "code",
   "execution_count": 34,
   "id": "e5afdfa2",
   "metadata": {
    "scrolled": false
   },
   "outputs": [
    {
     "data": {
      "image/png": "[encoded data removed]",
      "text/plain": [
       "<Figure size 720x360 with 1 Axes>"
      ]
     },
     "metadata": {
      "needs_background": "light"
     },
     "output_type": "display_data"
    },
    {
     "data": {
      "image/png": "[encoded data removed]",
      "text/plain": [
       "<Figure size 720x360 with 1 Axes>"
      ]
     },
     "metadata": {
      "needs_background": "light"
     },
     "output_type": "display_data"
    },
    {
     "data": {
      "image/png": "[encoded data removed]",
      "text/plain": [
       "<Figure size 720x360 with 1 Axes>"
      ]
     },
     "metadata": {
      "needs_background": "light"
     },
     "output_type": "display_data"
    },
    {
     "data": {
      "image/png": "[encoded data removed]",
      "text/plain": [
       "<Figure size 720x360 with 1 Axes>"
      ]
     },
     "metadata": {
      "needs_background": "light"
     },
     "output_type": "display_data"
    },
    {
     "data": {
      "image/png": "[encoded data removed]",
      "text/plain": [
       "<Figure size 720x360 with 1 Axes>"
      ]
     },
     "metadata": {
      "needs_background": "light"
     },
     "output_type": "display_data"
    },
    {
     "data": {
      "image/png": "[encoded data removed]",
      "text/plain": [
       "<Figure size 720x360 with 1 Axes>"
      ]
     },
     "metadata": {
      "needs_background": "light"
     },
     "output_type": "display_data"
    },
    {
     "data": {
      "image/png": "[encoded data removed]",
      "text/plain": [
       "<Figure size 720x360 with 1 Axes>"
      ]
     },
     "metadata": {
      "needs_background": "light"
     },
     "output_type": "display_data"
    },
    {
     "data": {
      "image/png": "[encoded data removed]",
      "text/plain": [
       "<Figure size 720x360 with 1 Axes>"
      ]
     },
     "metadata": {
      "needs_background": "light"
     },
     "output_type": "display_data"
    },
    {
     "data": {
      "image/png": "[encoded data removed]",
      "text/plain": [
       "<Figure size 720x360 with 1 Axes>"
      ]
     },
     "metadata": {
      "needs_background": "light"
     },
     "output_type": "display_data"
    }
   ],
   "source": [
    "\n",
    "for i in d:\n",
    "    plt.figure(figsize=(10,5))    \n",
    "    sns.barplot(df[i].value_counts().values, df[i].value_counts().index, data=df)    \n",
    "    plt.title(i)    \n",
    "    plt.tight_layout()"
   ]
  },
  {
   "cell_type": "code",
   "execution_count": 35,
   "id": "74112d7e",
   "metadata": {},
   "outputs": [
    {
     "data": {
      "text/plain": [
       "0.000000      1474\n",
       "1.020000        38\n",
       "2.030000        26\n",
       "0.510000        23\n",
       "3.050000        21\n",
       "0.250000        16\n",
       "4.060000        15\n",
       "7.110000         9\n",
       "7.870000         8\n",
       "5.080000         7\n",
       "6.100000         7\n",
       "9.910000         7\n",
       "11.940000        5\n",
       "12.950000        5\n",
       "10.920000        4\n",
       "4.320000         3\n",
       "20.070000        3\n",
       "2.540000         3\n",
       "8.890000         3\n",
       "13.970000        3\n",
       "14.990000        2\n",
       "3.560000         2\n",
       "99.060000        2\n",
       "14.220000        1\n",
       "16.000000        1\n",
       "203.960000       1\n",
       "20.320000        1\n",
       "3.300000         1\n",
       "8.380000         1\n",
       "33.020000        1\n",
       "8.130000         1\n",
       "4.570000         1\n",
       "23.880000        1\n",
       "23.110000        1\n",
       "32.000000        1\n",
       "5.330000         1\n",
       "1.075214         1\n",
       "6.600000         1\n",
       "19.050000        1\n",
       "61.980000        1\n",
       "0.760000         1\n",
       "17.020000        1\n",
       "21.080000        1\n",
       "Name: PP, dtype: int64"
      ]
     },
     "execution_count": 35,
     "metadata": {},
     "output_type": "execute_result"
    }
   ],
   "source": [
    "df[\"PP\"].value_counts()"
   ]
  },
  {
   "cell_type": "code",
   "execution_count": 36,
   "id": "26e5a296",
   "metadata": {},
   "outputs": [
    {
     "name": "stdout",
     "output_type": "stream",
     "text": [
      "            Y         T        TM        Tm       STP         H        PP  \\\n",
      "Y    1.000000  0.103534  0.060579  0.094078 -0.062009  0.003588  0.004433   \n",
      "T    0.103534  1.000000  0.964881  0.938793 -0.251841 -0.716942 -0.041117   \n",
      "TM   0.060579  0.964881  1.000000  0.834802 -0.135264 -0.784897 -0.082442   \n",
      "Tm   0.094078  0.938793  0.834802  1.000000 -0.357263 -0.533960  0.022749   \n",
      "STP -0.062009 -0.251841 -0.135264 -0.357263  1.000000  0.106025 -0.141934   \n",
      "H    0.003588 -0.716942 -0.784897 -0.533960  0.106025  1.000000  0.144317   \n",
      "PP   0.004433 -0.041117 -0.082442  0.022749 -0.141934  0.144317  1.000000   \n",
      "VV   0.283444  0.389404  0.390976  0.316975 -0.242056 -0.553946 -0.064929   \n",
      "V    0.067028  0.108683 -0.011492  0.238897 -0.443597 -0.147726  0.057199   \n",
      "VM  -0.025001  0.171233  0.080370  0.263139 -0.448988 -0.206686  0.054096   \n",
      "\n",
      "           VV         V        VM  \n",
      "Y    0.283444  0.067028 -0.025001  \n",
      "T    0.389404  0.108683  0.171233  \n",
      "TM   0.390976 -0.011492  0.080370  \n",
      "Tm   0.316975  0.238897  0.263139  \n",
      "STP -0.242056 -0.443597 -0.448988  \n",
      "H   -0.553946 -0.147726 -0.206686  \n",
      "PP  -0.064929  0.057199  0.054096  \n",
      "VV   1.000000  0.323092  0.296382  \n",
      "V    0.323092  1.000000  0.827494  \n",
      "VM   0.296382  0.827494  1.000000  \n"
     ]
    },
    {
     "data": {
      "text/plain": [
       "<AxesSubplot:>"
      ]
     },
     "execution_count": 36,
     "metadata": {},
     "output_type": "execute_result"
    },
    {
     "data": {
      "image/png": "[encoded data removed]",
      "text/plain": [
       "<Figure size 432x288 with 2 Axes>"
      ]
     },
     "metadata": {
      "needs_background": "light"
     },
     "output_type": "display_data"
    }
   ],
   "source": [
    "# checking correlation between independent variables\n",
    "corr_df=df.iloc[:,:-1].corr(method=\"pearson\")\n",
    "print(corr_df)\n",
    "\n",
    "sns.heatmap(corr_df,vmax=1.0,vmin=-1.0,annot=True)"
   ]
  },
  {
   "cell_type": "markdown",
   "id": "1400b7cb",
   "metadata": {},
   "source": [
    "keeping all the variables as it gives higher accuracy in my model"
   ]
  },
  {
   "cell_type": "code",
   "execution_count": 37,
   "id": "3fa88ad6",
   "metadata": {},
   "outputs": [],
   "source": [
    "#df.drop([\"T\",\"TM\",\"Tm\",\"VM\"],axis=1,inplace = True)"
   ]
  },
  {
   "cell_type": "code",
   "execution_count": 38,
   "id": "9239af19",
   "metadata": {},
   "outputs": [],
   "source": [
    "from sklearn.preprocessing import LabelEncoder\n",
    "le = LabelEncoder()\n",
    "#for x in df.columns:\n",
    "df[\"Climate\"]=le.fit_transform(df[\"Climate\"])"
   ]
  },
  {
   "cell_type": "code",
   "execution_count": 39,
   "id": "e20db3a5",
   "metadata": {},
   "outputs": [],
   "source": [
    "#df.to_excel(\"geo_processed.xlsx\")"
   ]
  },
  {
   "cell_type": "code",
   "execution_count": 40,
   "id": "8d839fa0",
   "metadata": {},
   "outputs": [],
   "source": [
    "#creating X and Y\n",
    "X = df.iloc[:,:-1]\n",
    "Y= df.iloc[:,-1]"
   ]
  },
  {
   "cell_type": "code",
   "execution_count": 41,
   "id": "17248b47",
   "metadata": {},
   "outputs": [],
   "source": [
    "#coverting Y into Int type variable\n",
    "Y=Y.astype(int)"
   ]
  },
  {
   "cell_type": "code",
   "execution_count": 42,
   "id": "f8d85cf5",
   "metadata": {},
   "outputs": [],
   "source": [
    "#scaling the data\n",
    "from sklearn.preprocessing import StandardScaler\n",
    "\n",
    "scaler = StandardScaler()\n",
    "scaler.fit(X)\n",
    "X = scaler.transform(X)"
   ]
  },
  {
   "cell_type": "code",
   "execution_count": 43,
   "id": "c1d7644a",
   "metadata": {},
   "outputs": [],
   "source": [
    "from sklearn.model_selection import train_test_split\n",
    "\n",
    "#Split the data into test and train\n",
    "X_train, X_test, Y_train, Y_test = train_test_split(X, Y, test_size=0.3,random_state=10)  "
   ]
  },
  {
   "cell_type": "code",
   "execution_count": 44,
   "id": "fcb5db0f",
   "metadata": {
    "scrolled": true
   },
   "outputs": [
    {
     "name": "stdout",
     "output_type": "stream",
     "text": [
      "Class=0, n=89 (5.217%)\n",
      "Class=2, n=1285 (75.322%)\n",
      "Class=1, n=311 (18.230%)\n",
      "Class=3, n=21 (1.231%)\n"
     ]
    },
    {
     "data": {
      "image/png": "[encoded data removed]",
      "text/plain": [
       "<Figure size 432x288 with 1 Axes>"
      ]
     },
     "metadata": {
      "needs_background": "light"
     },
     "output_type": "display_data"
    }
   ],
   "source": [
    "#using counter to check the number of observation in each class\n",
    "from collections import Counter\n",
    "counter = Counter(Y)\n",
    "for k,v in counter.items():\n",
    "    per = v / len(Y) * 100\n",
    "    print('Class=%d, n=%d (%.3f%%)' % (k, v, per))\n",
    "# plot the distribution\n",
    "plt.bar(counter.keys(), counter.values())\n",
    "plt.show()\n"
   ]
  },
  {
   "cell_type": "markdown",
   "id": "d30d67e3",
   "metadata": {},
   "source": [
    "### Using Smote for balancing the Multiclass Imbalance Data"
   ]
  },
  {
   "cell_type": "code",
   "execution_count": 45,
   "id": "ce6fcde5",
   "metadata": {
    "scrolled": false
   },
   "outputs": [
    {
     "name": "stdout",
     "output_type": "stream",
     "text": [
      "Class=2, n=909 (25.000%)\n",
      "Class=1, n=909 (25.000%)\n",
      "Class=0, n=909 (25.000%)\n",
      "Class=3, n=909 (25.000%)\n"
     ]
    },
    {
     "data": {
      "image/png": "[encoded data removed]",
      "text/plain": [
       "<Figure size 432x288 with 1 Axes>"
      ]
     },
     "metadata": {
      "needs_background": "light"
     },
     "output_type": "display_data"
    }
   ],
   "source": [
    "from imblearn.over_sampling import SMOTE \n",
    "oversample = SMOTE()\n",
    "X_train,Y_train = oversample.fit_resample(X_train,Y_train)\n",
    "\n",
    "counter = Counter(Y_train)\n",
    "for k,v in counter.items():\n",
    "    per = v/len(Y_train)*100\n",
    "    print('Class=%d, n=%d (%.3f%%)' % (k, v, per))\n",
    "    \n",
    "plt.bar(counter.keys(),counter.values())\n",
    "plt.show()"
   ]
  },
  {
   "cell_type": "code",
   "execution_count": 46,
   "id": "0d6a86a2",
   "metadata": {},
   "outputs": [
    {
     "name": "stdout",
     "output_type": "stream",
     "text": [
      "[[ 0.70845948  1.23023805  1.02324719 ...  1.61361348  1.00578983\n",
      "   1.10736878]\n",
      " [-0.70929052 -1.15525626 -1.12061145 ...  0.32055553  2.89474699\n",
      "   1.4455606 ]\n",
      " [-0.70929052  0.15291804 -0.02587512 ... -0.06257275  1.26191962\n",
      "   0.55659924]\n",
      " ...\n",
      " [ 1.19387982  1.05151097  0.81376265 ...  0.53762319 -0.07893929\n",
      "   0.360417  ]\n",
      " [-1.37355053  0.9843166   0.95929217 ...  0.07205789 -0.18899768\n",
      "  -0.0295103 ]\n",
      " [-1.11051911  1.2103867   1.47722366 ... -0.18546151 -0.52010576\n",
      "  -0.40180289]]\n"
     ]
    }
   ],
   "source": [
    "print(X_train)"
   ]
  },
  {
   "cell_type": "markdown",
   "id": "42e167d8",
   "metadata": {},
   "source": [
    "# PCA "
   ]
  },
  {
   "cell_type": "code",
   "execution_count": 47,
   "id": "3f4b222a",
   "metadata": {},
   "outputs": [],
   "source": [
    "from sklearn.decomposition import PCA\n",
    "#passing n_componenst as number of variables\n",
    "pca = PCA(n_components = 10)\n",
    "  \n",
    "X_train =pca.fit_transform(X_train)\n",
    "X_test = pca.transform(X_test)\n",
    "  \n"
   ]
  },
  {
   "cell_type": "markdown",
   "id": "4ac824a8",
   "metadata": {},
   "source": [
    "# LOgistic K-fold"
   ]
  },
  {
   "cell_type": "code",
   "execution_count": 48,
   "id": "01bfa503",
   "metadata": {
    "scrolled": true
   },
   "outputs": [
    {
     "name": "stdout",
     "output_type": "stream",
     "text": [
      "[0.86813187 0.88461538 0.87087912 0.87637363 0.86813187 0.8956044\n",
      " 0.87052342 0.86225895 0.85674931 0.85399449]\n",
      "0.8707262434535161\n"
     ]
    }
   ],
   "source": [
    "from sklearn.linear_model import LogisticRegression\n",
    "\n",
    "classifier=LogisticRegression()\n",
    "\n",
    "#performing kfold_cross_validation\n",
    "from sklearn.model_selection import StratifiedKFold\n",
    "kfold_cv=StratifiedKFold(n_splits=10,random_state=10,shuffle =True)\n",
    "#print(kfold_cv)\n",
    "\n",
    "from sklearn.model_selection import cross_val_score\n",
    "#running the model using scoring metric as accuracy\n",
    "kfold_cv_result=cross_val_score(estimator=classifier,X=X_train,y=Y_train, cv=kfold_cv)\n",
    "print(kfold_cv_result)\n",
    "#finding the mean\n",
    "print(kfold_cv_result.mean())"
   ]
  },
  {
   "cell_type": "code",
   "execution_count": 49,
   "id": "e96e2c99",
   "metadata": {
    "scrolled": true
   },
   "outputs": [
    {
     "name": "stdout",
     "output_type": "stream",
     "text": [
      "[(2, 2), (1, 0), (2, 2), (2, 2), (2, 2), (1, 1), (2, 3), (2, 3), (1, 1), (2, 2), (2, 2), (0, 0), (2, 3), (1, 3), (2, 2), (2, 2), (1, 2), (2, 2), (2, 2), (2, 2), (2, 2), (2, 3), (1, 1), (2, 2), (2, 2), (2, 2), (0, 0), (1, 1), (2, 2), (1, 1), (2, 2), (2, 3), (2, 2), (2, 2), (1, 1), (2, 2), (2, 3), (2, 2), (2, 2), (2, 2), (2, 2), (2, 2), (2, 2), (2, 2), (2, 3), (1, 1), (2, 2), (2, 1), (0, 0), (2, 1), (2, 0), (2, 2), (2, 1), (2, 1), (2, 2), (2, 1), (2, 2), (1, 1), (2, 2), (2, 3), (1, 1), (1, 0), (2, 2), (2, 3), (2, 3), (1, 1), (1, 1), (2, 2), (2, 3), (2, 1), (2, 2), (1, 0), (2, 2), (2, 2), (2, 1), (2, 1), (1, 1), (2, 2), (2, 2), (2, 2), (2, 0), (2, 2), (2, 2), (2, 2), (0, 0), (2, 2), (0, 0), (2, 2), (1, 1), (2, 2), (2, 3), (0, 1), (2, 2), (2, 2), (2, 2), (2, 1), (2, 1), (2, 2), (2, 2), (0, 0), (2, 2), (2, 2), (1, 1), (2, 2), (2, 3), (0, 0), (2, 0), (2, 3), (2, 2), (1, 1), (2, 2), (2, 0), (1, 1), (2, 2), (2, 1), (2, 2), (2, 2), (3, 3), (2, 2), (2, 2), (1, 1), (2, 2), (2, 2), (1, 1), (2, 2), (1, 1), (2, 1), (2, 2), (2, 1), (2, 2), (2, 3), (2, 2), (2, 2), (2, 2), (1, 1), (0, 0), (2, 2), (1, 1), (3, 3), (2, 2), (2, 2), (2, 2), (2, 2), (1, 1), (2, 2), (2, 2), (0, 0), (3, 3), (2, 2), (1, 1), (2, 2), (1, 2), (2, 2), (2, 2), (2, 2), (2, 2), (3, 2), (2, 1), (2, 3), (2, 3), (2, 3), (2, 3), (1, 1), (2, 3), (1, 1), (2, 3), (2, 1), (2, 2), (1, 1), (1, 1), (3, 3), (2, 2), (2, 2), (0, 1), (2, 2), (2, 2), (1, 1), (1, 1), (2, 2), (2, 2), (2, 2), (1, 1), (2, 2), (2, 2), (1, 1), (2, 2), (1, 1), (2, 1), (2, 2), (0, 0), (2, 2), (2, 2), (2, 3), (2, 2), (2, 2), (2, 1), (2, 2), (2, 3), (2, 3), (2, 1), (2, 2), (2, 1), (1, 2), (2, 2), (2, 2), (0, 0), (2, 2), (2, 2), (0, 0), (1, 1), (2, 1), (2, 2), (2, 2), (2, 2), (2, 2), (1, 1), (2, 2), (0, 0), (0, 0), (2, 1), (1, 1), (1, 1), (2, 3), (2, 2), (2, 2), (1, 1), (2, 2), (2, 2), (1, 1), (2, 2), (0, 0), (0, 0), (2, 1), (2, 2), (2, 3), (2, 2), (2, 2), (2, 2), (1, 0), (2, 2), (1, 1), (2, 2), (2, 2), (2, 0), (2, 2), (2, 1), (1, 1), (1, 1), (0, 0), (1, 2), (0, 1), (2, 2), (2, 2), (0, 1), (2, 2), (2, 2), (2, 2), (1, 2), (2, 2), (2, 2), (2, 1), (1, 1), (1, 1), (2, 2), (2, 3), (2, 3), (1, 1), (2, 2), (2, 2), (0, 0), (2, 2), (1, 1), (2, 2), (1, 1), (2, 2), (1, 1), (0, 0), (1, 1), (2, 2), (2, 2), (2, 2), (1, 1), (2, 2), (2, 2), (2, 2), (2, 2), (2, 2), (1, 0), (2, 2), (2, 2), (2, 2), (1, 1), (2, 2), (0, 0), (2, 2), (2, 2), (0, 0), (2, 2), (1, 1), (2, 2), (2, 2), (2, 2), (2, 3), (1, 1), (2, 2), (2, 2), (2, 2), (2, 2), (2, 2), (2, 2), (2, 1), (2, 2), (2, 2), (2, 1), (2, 2), (1, 1), (2, 2), (1, 1), (2, 0), (2, 2), (2, 2), (2, 2), (2, 1), (2, 2), (2, 3), (2, 1), (2, 3), (2, 2), (2, 2), (2, 2), (2, 2), (2, 1), (2, 1), (2, 1), (2, 3), (2, 1), (2, 2), (2, 2), (2, 2), (1, 0), (2, 2), (2, 0), (2, 2), (2, 1), (2, 2), (2, 2), (2, 2), (2, 2), (1, 1), (2, 2), (2, 0), (0, 0), (2, 2), (2, 2), (2, 2), (2, 2), (0, 0), (2, 2), (2, 2), (2, 2), (1, 1), (2, 2), (2, 2), (2, 2), (2, 2), (2, 1), (2, 2), (2, 2), (2, 2), (2, 2), (0, 2), (2, 2), (2, 2), (2, 2), (2, 2), (3, 3), (2, 3), (2, 3), (2, 0), (2, 3), (2, 2), (2, 0), (2, 2), (2, 2), (2, 2), (1, 1), (2, 2), (1, 1), (2, 2), (2, 2), (2, 0), (2, 1), (2, 2), (2, 2), (2, 2), (0, 0), (2, 1), (2, 1), (2, 2), (2, 2), (1, 0), (2, 2), (2, 2), (2, 2), (1, 1), (2, 3), (2, 1), (1, 1), (2, 2), (1, 1), (1, 1), (2, 2), (2, 1), (2, 2), (2, 2), (2, 1), (2, 2), (2, 2), (2, 2), (0, 0), (2, 2), (2, 3), (1, 3), (2, 3), (2, 2), (2, 1), (1, 1), (2, 2), (2, 2), (2, 2), (2, 2), (2, 2), (2, 2), (2, 2), (2, 3), (1, 1), (2, 2), (2, 2), (2, 2), (1, 3), (2, 0), (2, 2), (2, 2), (2, 1), (1, 1), (2, 2), (2, 0), (2, 2), (2, 2), (3, 3), (2, 0), (2, 1), (2, 1), (2, 2), (2, 2), (2, 2), (1, 0), (3, 3), (2, 2), (2, 3), (1, 1), (1, 1), (2, 2), (2, 2), (2, 2), (2, 0), (1, 1), (2, 2), (2, 2), (1, 1), (2, 2), (1, 3), (2, 2), (2, 1), (2, 2), (2, 2), (2, 1), (1, 1), (2, 1), (2, 3), (2, 3), (1, 1), (2, 1), (2, 2), (1, 1), (1, 1), (1, 3), (2, 2), (2, 2), (1, 2), (2, 2), (2, 2), (2, 1), (2, 2), (2, 1), (2, 2), (3, 3), (2, 2), (1, 2), (2, 2), (1, 1), (2, 1), (1, 2), (2, 3), (2, 2), (2, 2), (1, 1), (1, 1), (2, 1), (2, 2), (2, 2), (2, 2)]\n"
     ]
    }
   ],
   "source": [
    "#model tuning\n",
    "\n",
    "for train_value, test_value in kfold_cv.split(X_train,Y_train):\n",
    "    classifier.fit(X_train[train_value], Y_train[train_value]).predict(X_train[test_value])\n",
    "\n",
    "    \n",
    "Y_pred=classifier.predict(X_test)\n",
    "print(list(zip(Y_test,Y_pred)))"
   ]
  },
  {
   "cell_type": "code",
   "execution_count": 50,
   "id": "f133ea30",
   "metadata": {
    "scrolled": true
   },
   "outputs": [
    {
     "name": "stdout",
     "output_type": "stream",
     "text": [
      "[[ 25   4   1   0]\n",
      " [  8  76   8   5]\n",
      " [ 15  52 266  43]\n",
      " [  0   0   1   8]]\n",
      "\n",
      "Classification report: \n",
      "              precision    recall  f1-score   support\n",
      "\n",
      "           0       0.52      0.83      0.64        30\n",
      "           1       0.58      0.78      0.66        97\n",
      "           2       0.96      0.71      0.82       376\n",
      "           3       0.14      0.89      0.25         9\n",
      "\n",
      "    accuracy                           0.73       512\n",
      "   macro avg       0.55      0.80      0.59       512\n",
      "weighted avg       0.85      0.73      0.77       512\n",
      "\n",
      "Accuracy of the model:  0.732421875\n"
     ]
    }
   ],
   "source": [
    "\n",
    "\n",
    "\n",
    "from sklearn.metrics import confusion_matrix, accuracy_score,classification_report\n",
    "\n",
    "cfm=confusion_matrix(Y_test,Y_pred)\n",
    "print(cfm)\n",
    "print()\n",
    "\n",
    "\n",
    "print(\"Classification report: \")\n",
    "\n",
    "print(classification_report(Y_test,Y_pred))\n",
    "\n",
    "acc=accuracy_score(Y_test, Y_pred)\n",
    "print(\"Accuracy of the model: \",acc)"
   ]
  },
  {
   "cell_type": "code",
   "execution_count": null,
   "id": "871b108b",
   "metadata": {},
   "outputs": [],
   "source": [
    " "
   ]
  },
  {
   "cell_type": "markdown",
   "id": "a5fded8b",
   "metadata": {},
   "source": [
    "# KNN KFOLD"
   ]
  },
  {
   "cell_type": "code",
   "execution_count": 51,
   "id": "d5bf0764",
   "metadata": {},
   "outputs": [
    {
     "name": "stdout",
     "output_type": "stream",
     "text": [
      "Class=0, n=89 (5.217%)\n",
      "Class=2, n=1285 (75.322%)\n",
      "Class=1, n=311 (18.230%)\n",
      "Class=3, n=21 (1.231%)\n"
     ]
    },
    {
     "data": {
      "image/png": "[encoded data removed]",
      "text/plain": [
       "<Figure size 432x288 with 1 Axes>"
      ]
     },
     "metadata": {
      "needs_background": "light"
     },
     "output_type": "display_data"
    },
    {
     "name": "stdout",
     "output_type": "stream",
     "text": [
      "Class=2, n=909 (25.000%)\n",
      "Class=1, n=909 (25.000%)\n",
      "Class=0, n=909 (25.000%)\n",
      "Class=3, n=909 (25.000%)\n"
     ]
    },
    {
     "data": {
      "image/png": "[encoded data removed]",
      "text/plain": [
       "<Figure size 432x288 with 1 Axes>"
      ]
     },
     "metadata": {
      "needs_background": "light"
     },
     "output_type": "display_data"
    },
    {
     "name": "stdout",
     "output_type": "stream",
     "text": [
      "[5.48475046e-01 1.71242937e-01 8.21552854e-02 7.54488665e-02\n",
      " 5.25865661e-02 3.23439579e-02 1.94062637e-02 1.41810160e-02\n",
      " 3.72919264e-03 4.30867703e-04]\n",
      "[1.7306119  1.18677903 1.08562438 1.07836809 1.0539938  1.03287271\n",
      " 1.01959579 1.01428204 1.00373615 1.00043096]\n"
     ]
    }
   ],
   "source": [
    "from sklearn.model_selection import train_test_split\n",
    "\n",
    "#Split the data into test and train\n",
    "X_train, X_test, Y_train, Y_test = train_test_split(X, Y, test_size=0.3,random_state=10)\n",
    "\n",
    "from collections import Counter\n",
    "counter = Counter(Y)\n",
    "for k,v in counter.items():\n",
    "    per = v / len(Y) * 100\n",
    "    print('Class=%d, n=%d (%.3f%%)' % (k, v, per))\n",
    "# plot the distribution\n",
    "plt.bar(counter.keys(), counter.values())\n",
    "plt.show()\n",
    "from imblearn.over_sampling import SMOTE \n",
    "oversample = SMOTE()\n",
    "X_train,Y_train = oversample.fit_resample(X_train,Y_train)\n",
    "\n",
    "counter = Counter(Y_train)\n",
    "for k,v in counter.items():\n",
    "    per = v/len(Y_train)*100\n",
    "    print('Class=%d, n=%d (%.3f%%)' % (k, v, per))\n",
    "    \n",
    "plt.bar(counter.keys(),counter.values())\n",
    "plt.show()\n",
    "\n",
    "from sklearn.decomposition import PCA\n",
    "pca = PCA(n_components = 10)\n",
    "  \n",
    "X_train =pca.fit_transform(X_train)\n",
    "X_test = pca.transform(X_test)\n",
    "  \n",
    "explained_variance = pca.explained_variance_ratio_\n",
    "print(explained_variance)\n",
    "print(np.exp(explained_variance))"
   ]
  },
  {
   "cell_type": "code",
   "execution_count": 52,
   "id": "195169a6",
   "metadata": {},
   "outputs": [
    {
     "name": "stdout",
     "output_type": "stream",
     "text": [
      "[0.8543956  0.87362637 0.85164835 0.87637363 0.82692308 0.87362637\n",
      " 0.81818182 0.85399449 0.85123967 0.83746556]\n",
      "0.8517474949293131\n"
     ]
    }
   ],
   "source": [
    "from sklearn.neighbors import KNeighborsClassifier\n",
    "classifier=KNeighborsClassifier(n_neighbors=int(np.sqrt(len(X_train))),\n",
    "metric='minkowski')\n",
    "\n",
    "#performing kfold_cross_validation\n",
    "from sklearn.model_selection import StratifiedKFold\n",
    "kfold_cv=StratifiedKFold(n_splits=10,random_state=10,shuffle =True)\n",
    "#print(kfold_cv)\n",
    "\n",
    "from sklearn.model_selection import cross_val_score\n",
    "#running the model using scoring metric as accuracy\n",
    "kfold_cv_result=cross_val_score(estimator=classifier,X=X_train,y=Y_train, cv=kfold_cv)\n",
    "print(kfold_cv_result)\n",
    "#finding the mean\n",
    "print(kfold_cv_result.mean())"
   ]
  },
  {
   "cell_type": "code",
   "execution_count": 53,
   "id": "21614f47",
   "metadata": {},
   "outputs": [
    {
     "name": "stdout",
     "output_type": "stream",
     "text": [
      "[(2, 2), (1, 0), (2, 2), (2, 3), (2, 2), (1, 1), (2, 3), (2, 3), (1, 1), (2, 2), (2, 2), (0, 0), (2, 3), (1, 3), (2, 3), (2, 2), (1, 2), (2, 3), (2, 1), (2, 2), (2, 1), (2, 3), (1, 1), (2, 2), (2, 2), (2, 2), (0, 0), (1, 1), (2, 2), (1, 1), (2, 2), (2, 3), (2, 3), (2, 2), (1, 1), (2, 0), (2, 3), (2, 3), (2, 2), (2, 2), (2, 2), (2, 2), (2, 3), (2, 3), (2, 2), (1, 1), (2, 2), (2, 2), (0, 0), (2, 1), (2, 0), (2, 2), (2, 1), (2, 1), (2, 2), (2, 1), (2, 2), (1, 1), (2, 2), (2, 2), (1, 1), (1, 0), (2, 2), (2, 3), (2, 3), (1, 1), (1, 1), (2, 2), (2, 3), (2, 1), (2, 2), (1, 0), (2, 2), (2, 2), (2, 2), (2, 1), (1, 2), (2, 2), (2, 2), (2, 3), (2, 0), (2, 2), (2, 2), (2, 2), (0, 0), (2, 3), (0, 0), (2, 2), (1, 1), (2, 2), (2, 3), (0, 2), (2, 0), (2, 3), (2, 2), (2, 1), (2, 1), (2, 2), (2, 0), (0, 0), (2, 2), (2, 1), (1, 1), (2, 2), (2, 3), (0, 0), (2, 0), (2, 3), (2, 2), (1, 1), (2, 1), (2, 0), (1, 2), (2, 2), (2, 1), (2, 2), (2, 2), (3, 3), (2, 2), (2, 1), (1, 1), (2, 2), (2, 3), (1, 1), (2, 2), (1, 1), (2, 1), (2, 2), (2, 1), (2, 2), (2, 3), (2, 2), (2, 2), (2, 2), (1, 1), (0, 0), (2, 3), (1, 1), (3, 3), (2, 2), (2, 3), (2, 3), (2, 3), (1, 1), (2, 2), (2, 2), (0, 0), (3, 3), (2, 2), (1, 1), (2, 2), (1, 3), (2, 2), (2, 2), (2, 2), (2, 2), (3, 3), (2, 1), (2, 3), (2, 3), (2, 3), (2, 3), (1, 1), (2, 3), (1, 1), (2, 2), (2, 1), (2, 2), (1, 1), (1, 1), (3, 3), (2, 3), (2, 2), (0, 1), (2, 2), (2, 2), (1, 1), (1, 2), (2, 2), (2, 2), (2, 2), (1, 1), (2, 2), (2, 3), (1, 1), (2, 2), (1, 1), (2, 1), (2, 2), (0, 0), (2, 1), (2, 3), (2, 3), (2, 3), (2, 2), (2, 1), (2, 2), (2, 3), (2, 3), (2, 1), (2, 2), (2, 1), (1, 3), (2, 2), (2, 2), (0, 0), (2, 2), (2, 2), (0, 0), (1, 1), (2, 1), (2, 2), (2, 2), (2, 2), (2, 3), (1, 1), (2, 2), (0, 0), (0, 0), (2, 1), (1, 1), (1, 1), (2, 3), (2, 2), (2, 2), (1, 1), (2, 0), (2, 2), (1, 2), (2, 2), (0, 0), (0, 0), (2, 0), (2, 2), (2, 3), (2, 2), (2, 2), (2, 2), (1, 0), (2, 2), (1, 1), (2, 1), (2, 2), (2, 0), (2, 2), (2, 1), (1, 1), (1, 1), (0, 0), (1, 2), (0, 0), (2, 1), (2, 2), (0, 1), (2, 2), (2, 2), (2, 1), (1, 2), (2, 2), (2, 2), (2, 1), (1, 2), (1, 1), (2, 2), (2, 2), (2, 2), (1, 1), (2, 2), (2, 2), (0, 0), (2, 3), (1, 1), (2, 2), (1, 1), (2, 2), (1, 1), (0, 0), (1, 1), (2, 2), (2, 2), (2, 1), (1, 1), (2, 2), (2, 2), (2, 2), (2, 2), (2, 3), (1, 0), (2, 2), (2, 2), (2, 3), (1, 1), (2, 2), (0, 0), (2, 2), (2, 2), (0, 0), (2, 2), (1, 1), (2, 2), (2, 3), (2, 2), (2, 3), (1, 0), (2, 2), (2, 3), (2, 2), (2, 3), (2, 2), (2, 2), (2, 1), (2, 2), (2, 2), (2, 1), (2, 2), (1, 1), (2, 2), (1, 1), (2, 0), (2, 2), (2, 2), (2, 2), (2, 1), (2, 3), (2, 3), (2, 2), (2, 3), (2, 2), (2, 2), (2, 2), (2, 2), (2, 1), (2, 1), (2, 1), (2, 3), (2, 1), (2, 2), (2, 2), (2, 2), (1, 0), (2, 2), (2, 0), (2, 3), (2, 1), (2, 2), (2, 1), (2, 2), (2, 1), (1, 1), (2, 2), (2, 0), (0, 0), (2, 1), (2, 2), (2, 2), (2, 2), (0, 0), (2, 1), (2, 3), (2, 3), (1, 1), (2, 2), (2, 3), (2, 2), (2, 2), (2, 1), (2, 1), (2, 2), (2, 0), (2, 2), (0, 2), (2, 1), (2, 2), (2, 2), (2, 2), (3, 3), (2, 2), (2, 1), (2, 2), (2, 3), (2, 2), (2, 0), (2, 2), (2, 2), (2, 2), (1, 1), (2, 2), (1, 1), (2, 2), (2, 2), (2, 0), (2, 1), (2, 2), (2, 1), (2, 3), (0, 0), (2, 1), (2, 1), (2, 2), (2, 2), (1, 0), (2, 2), (2, 2), (2, 3), (1, 1), (2, 2), (2, 1), (1, 1), (2, 3), (1, 1), (1, 1), (2, 1), (2, 1), (2, 2), (2, 3), (2, 1), (2, 2), (2, 2), (2, 2), (0, 0), (2, 2), (2, 2), (1, 3), (2, 3), (2, 2), (2, 1), (1, 1), (2, 2), (2, 0), (2, 2), (2, 2), (2, 2), (2, 2), (2, 2), (2, 3), (1, 1), (2, 2), (2, 2), (2, 2), (1, 1), (2, 1), (2, 2), (2, 2), (2, 1), (1, 1), (2, 1), (2, 0), (2, 3), (2, 2), (3, 3), (2, 0), (2, 1), (2, 1), (2, 2), (2, 2), (2, 2), (1, 1), (3, 3), (2, 2), (2, 2), (1, 1), (1, 1), (2, 2), (2, 1), (2, 2), (2, 0), (1, 1), (2, 2), (2, 2), (1, 1), (2, 2), (1, 3), (2, 2), (2, 1), (2, 2), (2, 2), (2, 1), (1, 1), (2, 1), (2, 2), (2, 2), (1, 1), (2, 1), (2, 2), (1, 1), (1, 1), (1, 1), (2, 2), (2, 1), (1, 2), (2, 2), (2, 2), (2, 1), (2, 3), (2, 2), (2, 3), (3, 3), (2, 2), (1, 1), (2, 2), (1, 1), (2, 1), (1, 2), (2, 3), (2, 2), (2, 2), (1, 1), (1, 1), (2, 1), (2, 1), (2, 2), (2, 3)]\n"
     ]
    }
   ],
   "source": [
    "for train_value, test_value in kfold_cv.split(X_train,Y_train):\n",
    "    classifier.fit(X_train[train_value], Y_train[train_value]).predict(X_train[test_value])\n",
    "\n",
    "    \n",
    "Y_pred=classifier.predict(X_test)\n",
    "print(list(zip(Y_test,Y_pred)))\n"
   ]
  },
  {
   "cell_type": "code",
   "execution_count": 54,
   "id": "b7a6683e",
   "metadata": {
    "scrolled": true
   },
   "outputs": [
    {
     "name": "stdout",
     "output_type": "stream",
     "text": [
      "[[ 26   2   2   0]\n",
      " [  8  74  10   5]\n",
      " [ 20  71 215  70]\n",
      " [  0   0   0   9]]\n",
      "\n",
      "Classification report: \n",
      "              precision    recall  f1-score   support\n",
      "\n",
      "           0       0.48      0.87      0.62        30\n",
      "           1       0.50      0.76      0.61        97\n",
      "           2       0.95      0.57      0.71       376\n",
      "           3       0.11      1.00      0.19         9\n",
      "\n",
      "    accuracy                           0.63       512\n",
      "   macro avg       0.51      0.80      0.53       512\n",
      "weighted avg       0.82      0.63      0.68       512\n",
      "\n",
      "Accuracy of the model:  0.6328125\n"
     ]
    }
   ],
   "source": [
    "from sklearn.metrics import confusion_matrix, accuracy_score,classification_report\n",
    "\n",
    "cfm=confusion_matrix(Y_test,Y_pred)\n",
    "print(cfm)\n",
    "print()\n",
    "\n",
    "\n",
    "print(\"Classification report: \")\n",
    "\n",
    "print(classification_report(Y_test,Y_pred))\n",
    "\n",
    "acc=accuracy_score(Y_test, Y_pred)\n",
    "print(\"Accuracy of the model: \",acc)"
   ]
  },
  {
   "cell_type": "code",
   "execution_count": null,
   "id": "245da197",
   "metadata": {},
   "outputs": [],
   "source": [
    " "
   ]
  },
  {
   "cell_type": "markdown",
   "id": "d966973e",
   "metadata": {},
   "source": [
    "# SVC K-Fold\n"
   ]
  },
  {
   "cell_type": "code",
   "execution_count": 55,
   "id": "ae42ce41",
   "metadata": {},
   "outputs": [
    {
     "name": "stdout",
     "output_type": "stream",
     "text": [
      "Class=0, n=89 (5.217%)\n",
      "Class=2, n=1285 (75.322%)\n",
      "Class=1, n=311 (18.230%)\n",
      "Class=3, n=21 (1.231%)\n"
     ]
    },
    {
     "data": {
      "image/png": "[encoded data removed]",
      "text/plain": [
       "<Figure size 432x288 with 1 Axes>"
      ]
     },
     "metadata": {
      "needs_background": "light"
     },
     "output_type": "display_data"
    },
    {
     "name": "stdout",
     "output_type": "stream",
     "text": [
      "Class=2, n=909 (25.000%)\n",
      "Class=1, n=909 (25.000%)\n",
      "Class=0, n=909 (25.000%)\n",
      "Class=3, n=909 (25.000%)\n"
     ]
    },
    {
     "data": {
      "image/png": "[encoded data removed]",
      "text/plain": [
       "<Figure size 432x288 with 1 Axes>"
      ]
     },
     "metadata": {
      "needs_background": "light"
     },
     "output_type": "display_data"
    },
    {
     "name": "stdout",
     "output_type": "stream",
     "text": [
      "[5.49632696e-01 1.71533264e-01 8.07099311e-02 7.53937111e-02\n",
      " 5.24576732e-02 3.37018066e-02 1.86880937e-02 1.37941665e-02\n",
      " 3.67634617e-03 4.12311041e-04]\n",
      "[1.7326165  1.18712363 1.0840564  1.07830861 1.05385795 1.03427615\n",
      " 1.01886381 1.01388974 1.00368311 1.0004124 ]\n"
     ]
    }
   ],
   "source": [
    "from sklearn.model_selection import train_test_split\n",
    "\n",
    "#Split the data into test and train\n",
    "X_train, X_test, Y_train, Y_test = train_test_split(X, Y, test_size=0.3,random_state=10)\n",
    "\n",
    "from collections import Counter\n",
    "counter = Counter(Y)\n",
    "for k,v in counter.items():\n",
    "    per = v / len(Y) * 100\n",
    "    print('Class=%d, n=%d (%.3f%%)' % (k, v, per))\n",
    "# plot the distribution\n",
    "plt.bar(counter.keys(), counter.values())\n",
    "plt.show()\n",
    "from imblearn.over_sampling import SMOTE \n",
    "oversample = SMOTE()\n",
    "X_train,Y_train = oversample.fit_resample(X_train,Y_train)\n",
    "\n",
    "counter = Counter(Y_train)\n",
    "for k,v in counter.items():\n",
    "    per = v/len(Y_train)*100\n",
    "    print('Class=%d, n=%d (%.3f%%)' % (k, v, per))\n",
    "    \n",
    "plt.bar(counter.keys(),counter.values())\n",
    "plt.show()\n",
    "\n",
    "from sklearn.decomposition import PCA\n",
    "pca = PCA(n_components = 10)\n",
    "  \n",
    "X_train =pca.fit_transform(X_train)\n",
    "X_test = pca.transform(X_test)\n",
    "  \n",
    "explained_variance = pca.explained_variance_ratio_\n",
    "print(explained_variance)\n",
    "print(np.exp(explained_variance))"
   ]
  },
  {
   "cell_type": "code",
   "execution_count": 56,
   "id": "55e76bbd",
   "metadata": {},
   "outputs": [
    {
     "name": "stdout",
     "output_type": "stream",
     "text": [
      "[0.8489011  0.87362637 0.87087912 0.86813187 0.83241758 0.85989011\n",
      " 0.83471074 0.85674931 0.84022039 0.84848485]\n",
      "0.8534011443102353\n"
     ]
    }
   ],
   "source": [
    "from sklearn.svm import SVC\n",
    "classifier=SVC(kernel='rbf',C=0.5,gamma=0.01)\n",
    "\n",
    "#performing kfold_cross_validation\n",
    "from sklearn.model_selection import StratifiedKFold\n",
    "kfold_cv=StratifiedKFold(n_splits=10,random_state=10,shuffle =True)\n",
    "#print(kfold_cv)\n",
    "\n",
    "from sklearn.model_selection import cross_val_score\n",
    "#running the model using scoring metric as accuracy\n",
    "kfold_cv_result=cross_val_score(estimator=classifier,X=X_train,y=Y_train, cv=kfold_cv)\n",
    "print(kfold_cv_result)\n",
    "#finding the mean\n",
    "print(kfold_cv_result.mean())"
   ]
  },
  {
   "cell_type": "code",
   "execution_count": null,
   "id": "0c66f5d0",
   "metadata": {},
   "outputs": [],
   "source": []
  },
  {
   "cell_type": "code",
   "execution_count": 57,
   "id": "2450dec0",
   "metadata": {},
   "outputs": [
    {
     "name": "stdout",
     "output_type": "stream",
     "text": [
      "[(2, 2), (1, 0), (2, 2), (2, 2), (2, 2), (1, 1), (2, 3), (2, 3), (1, 1), (2, 2), (2, 2), (0, 0), (2, 3), (1, 3), (2, 3), (2, 2), (1, 2), (2, 2), (2, 2), (2, 2), (2, 2), (2, 3), (1, 1), (2, 2), (2, 2), (2, 2), (0, 0), (1, 1), (2, 2), (1, 1), (2, 2), (2, 3), (2, 1), (2, 2), (1, 1), (2, 2), (2, 3), (2, 3), (2, 2), (2, 2), (2, 2), (2, 2), (2, 2), (2, 3), (2, 3), (1, 1), (2, 2), (2, 1), (0, 0), (2, 1), (2, 0), (2, 2), (2, 1), (2, 1), (2, 2), (2, 1), (2, 2), (1, 1), (2, 2), (2, 3), (1, 1), (1, 0), (2, 2), (2, 3), (2, 3), (1, 1), (1, 1), (2, 2), (2, 3), (2, 2), (2, 2), (1, 0), (2, 2), (2, 2), (2, 1), (2, 1), (1, 1), (2, 2), (2, 2), (2, 2), (2, 0), (2, 2), (2, 2), (2, 2), (0, 0), (2, 3), (0, 0), (2, 2), (1, 1), (2, 2), (2, 3), (0, 1), (2, 2), (2, 3), (2, 2), (2, 1), (2, 2), (2, 2), (2, 2), (0, 0), (2, 2), (2, 2), (1, 1), (2, 2), (2, 3), (0, 0), (2, 0), (2, 3), (2, 2), (1, 1), (2, 2), (2, 0), (1, 2), (2, 0), (2, 1), (2, 2), (2, 2), (3, 3), (2, 2), (2, 1), (1, 1), (2, 2), (2, 2), (1, 1), (2, 2), (1, 1), (2, 1), (2, 2), (2, 1), (2, 2), (2, 3), (2, 2), (2, 2), (2, 2), (1, 1), (0, 0), (2, 3), (1, 1), (3, 3), (2, 2), (2, 3), (2, 2), (2, 3), (1, 1), (2, 2), (2, 2), (0, 0), (3, 3), (2, 2), (1, 1), (2, 3), (1, 3), (2, 2), (2, 2), (2, 2), (2, 2), (3, 3), (2, 1), (2, 3), (2, 3), (2, 3), (2, 3), (1, 1), (2, 3), (1, 1), (2, 3), (2, 1), (2, 2), (1, 1), (1, 1), (3, 3), (2, 3), (2, 2), (0, 1), (2, 2), (2, 2), (1, 1), (1, 2), (2, 2), (2, 2), (2, 2), (1, 1), (2, 2), (2, 3), (1, 1), (2, 2), (1, 1), (2, 1), (2, 2), (0, 0), (2, 2), (2, 2), (2, 3), (2, 2), (2, 2), (2, 1), (2, 2), (2, 3), (2, 3), (2, 1), (2, 2), (2, 2), (1, 3), (2, 2), (2, 2), (0, 0), (2, 2), (2, 2), (0, 0), (1, 1), (2, 1), (2, 2), (2, 2), (2, 2), (2, 2), (1, 1), (2, 2), (0, 0), (0, 0), (2, 1), (1, 1), (1, 1), (2, 3), (2, 2), (2, 2), (1, 1), (2, 2), (2, 3), (1, 1), (2, 2), (0, 0), (0, 0), (2, 1), (2, 2), (2, 3), (2, 2), (2, 2), (2, 2), (1, 0), (2, 2), (1, 1), (2, 2), (2, 2), (2, 0), (2, 2), (2, 1), (1, 1), (1, 2), (0, 0), (1, 2), (0, 0), (2, 1), (2, 2), (0, 1), (2, 2), (2, 2), (2, 2), (1, 2), (2, 2), (2, 2), (2, 1), (1, 1), (1, 1), (2, 2), (2, 3), (2, 3), (1, 1), (2, 2), (2, 2), (0, 0), (2, 3), (1, 1), (2, 2), (1, 1), (2, 2), (1, 1), (0, 0), (1, 1), (2, 2), (2, 2), (2, 2), (1, 1), (2, 2), (2, 2), (2, 2), (2, 2), (2, 3), (1, 0), (2, 2), (2, 2), (2, 3), (1, 1), (2, 2), (0, 0), (2, 2), (2, 2), (0, 0), (2, 2), (1, 1), (2, 2), (2, 2), (2, 2), (2, 3), (1, 0), (2, 2), (2, 2), (2, 3), (2, 2), (2, 2), (2, 2), (2, 1), (2, 2), (2, 2), (2, 1), (2, 2), (1, 1), (2, 3), (1, 1), (2, 0), (2, 2), (2, 2), (2, 2), (2, 1), (2, 2), (2, 3), (2, 1), (2, 3), (2, 3), (2, 2), (2, 2), (2, 2), (2, 1), (2, 1), (2, 1), (2, 3), (2, 1), (2, 2), (2, 2), (2, 2), (1, 0), (2, 2), (2, 0), (2, 2), (2, 1), (2, 2), (2, 2), (2, 2), (2, 1), (1, 1), (2, 2), (2, 0), (0, 0), (2, 2), (2, 2), (2, 2), (2, 2), (0, 0), (2, 2), (2, 3), (2, 3), (1, 1), (2, 2), (2, 3), (2, 2), (2, 2), (2, 1), (2, 1), (2, 2), (2, 2), (2, 2), (0, 2), (2, 2), (2, 2), (2, 2), (2, 2), (3, 3), (2, 3), (2, 3), (2, 0), (2, 3), (2, 2), (2, 0), (2, 2), (2, 2), (2, 2), (1, 1), (2, 2), (1, 1), (2, 2), (2, 3), (2, 0), (2, 1), (2, 2), (2, 1), (2, 2), (0, 0), (2, 1), (2, 1), (2, 2), (2, 2), (1, 0), (2, 1), (2, 2), (2, 2), (1, 1), (2, 3), (2, 1), (1, 1), (2, 3), (1, 1), (1, 1), (2, 1), (2, 1), (2, 3), (2, 3), (2, 2), (2, 2), (2, 2), (2, 3), (0, 0), (2, 2), (2, 3), (1, 3), (2, 3), (2, 2), (2, 1), (1, 2), (2, 2), (2, 2), (2, 2), (2, 2), (2, 2), (2, 2), (2, 2), (2, 3), (1, 1), (2, 2), (2, 2), (2, 3), (1, 3), (2, 1), (2, 2), (2, 2), (2, 1), (1, 1), (2, 2), (2, 0), (2, 2), (2, 2), (3, 3), (2, 0), (2, 1), (2, 1), (2, 2), (2, 2), (2, 3), (1, 0), (3, 3), (2, 2), (2, 3), (1, 1), (1, 1), (2, 2), (2, 2), (2, 3), (2, 0), (1, 1), (2, 2), (2, 2), (1, 1), (2, 2), (1, 3), (2, 2), (2, 1), (2, 2), (2, 2), (2, 1), (1, 1), (2, 1), (2, 3), (2, 3), (1, 1), (2, 1), (2, 2), (1, 1), (1, 1), (1, 1), (2, 2), (2, 2), (1, 2), (2, 2), (2, 2), (2, 1), (2, 3), (2, 1), (2, 3), (3, 3), (2, 2), (1, 1), (2, 2), (1, 1), (2, 1), (1, 2), (2, 3), (2, 2), (2, 2), (1, 1), (1, 1), (2, 1), (2, 2), (2, 2), (2, 2)]\n"
     ]
    }
   ],
   "source": [
    "for train_value, test_value in kfold_cv.split(X_train,Y_train):\n",
    "    classifier.fit(X_train[train_value], Y_train[train_value]).predict(X_train[test_value])\n",
    "\n",
    "    \n",
    "Y_pred=classifier.predict(X_test)\n",
    "print(list(zip(Y_test,Y_pred)))\n"
   ]
  },
  {
   "cell_type": "code",
   "execution_count": 58,
   "id": "af38b014",
   "metadata": {
    "scrolled": true
   },
   "outputs": [
    {
     "name": "stdout",
     "output_type": "stream",
     "text": [
      "[[ 26   3   1   0]\n",
      " [  9  73   9   6]\n",
      " [ 15  57 230  74]\n",
      " [  0   0   0   9]]\n",
      "\n",
      "Classification report: \n",
      "              precision    recall  f1-score   support\n",
      "\n",
      "           0       0.52      0.87      0.65        30\n",
      "           1       0.55      0.75      0.63        97\n",
      "           2       0.96      0.61      0.75       376\n",
      "           3       0.10      1.00      0.18         9\n",
      "\n",
      "    accuracy                           0.66       512\n",
      "   macro avg       0.53      0.81      0.55       512\n",
      "weighted avg       0.84      0.66      0.71       512\n",
      "\n",
      "Accuracy of the model:  0.66015625\n"
     ]
    }
   ],
   "source": [
    "from sklearn.metrics import confusion_matrix, accuracy_score,classification_report\n",
    "\n",
    "cfm=confusion_matrix(Y_test,Y_pred)\n",
    "print(cfm)\n",
    "print()\n",
    "\n",
    "\n",
    "print(\"Classification report: \")\n",
    "\n",
    "print(classification_report(Y_test,Y_pred))\n",
    "\n",
    "acc=accuracy_score(Y_test, Y_pred)\n",
    "print(\"Accuracy of the model: \",acc)"
   ]
  },
  {
   "cell_type": "code",
   "execution_count": null,
   "id": "346d6cde",
   "metadata": {},
   "outputs": [],
   "source": []
  },
  {
   "cell_type": "markdown",
   "id": "67f4c5b2",
   "metadata": {},
   "source": [
    "# Decision TRee KFOld"
   ]
  },
  {
   "cell_type": "code",
   "execution_count": 59,
   "id": "8059493f",
   "metadata": {},
   "outputs": [
    {
     "name": "stdout",
     "output_type": "stream",
     "text": [
      "Class=0, n=89 (5.217%)\n",
      "Class=2, n=1285 (75.322%)\n",
      "Class=1, n=311 (18.230%)\n",
      "Class=3, n=21 (1.231%)\n"
     ]
    },
    {
     "data": {
      "image/png": "[encoded data removed]",
      "text/plain": [
       "<Figure size 432x288 with 1 Axes>"
      ]
     },
     "metadata": {
      "needs_background": "light"
     },
     "output_type": "display_data"
    },
    {
     "name": "stdout",
     "output_type": "stream",
     "text": [
      "Class=2, n=909 (25.000%)\n",
      "Class=1, n=909 (25.000%)\n",
      "Class=0, n=909 (25.000%)\n",
      "Class=3, n=909 (25.000%)\n"
     ]
    },
    {
     "data": {
      "image/png": "[encoded data removed]",
      "text/plain": [
       "<Figure size 432x288 with 1 Axes>"
      ]
     },
     "metadata": {
      "needs_background": "light"
     },
     "output_type": "display_data"
    },
    {
     "name": "stdout",
     "output_type": "stream",
     "text": [
      "[5.41592717e-01 1.71971791e-01 8.13432938e-02 7.59878765e-02\n",
      " 5.27713197e-02 3.86523875e-02 1.95732807e-02 1.40422251e-02\n",
      " 3.64555015e-03 4.19559094e-04]\n",
      "[1.71874215 1.18764433 1.08474322 1.07894949 1.05418855 1.03940911\n",
      " 1.01976609 1.01414128 1.0036522  1.00041965]\n"
     ]
    }
   ],
   "source": [
    "from sklearn.model_selection import train_test_split\n",
    "\n",
    "#Split the data into test and train\n",
    "X_train, X_test, Y_train, Y_test = train_test_split(X, Y, test_size=0.3,random_state=10)\n",
    "\n",
    "from collections import Counter\n",
    "counter = Counter(Y)\n",
    "for k,v in counter.items():\n",
    "    per = v / len(Y) * 100\n",
    "    print('Class=%d, n=%d (%.3f%%)' % (k, v, per))\n",
    "# plot the distribution\n",
    "plt.bar(counter.keys(), counter.values())\n",
    "plt.show()\n",
    "from imblearn.over_sampling import SMOTE \n",
    "oversample = SMOTE()\n",
    "X_train,Y_train = oversample.fit_resample(X_train,Y_train)\n",
    "\n",
    "counter = Counter(Y_train)\n",
    "for k,v in counter.items():\n",
    "    per = v/len(Y_train)*100\n",
    "    print('Class=%d, n=%d (%.3f%%)' % (k, v, per))\n",
    "    \n",
    "plt.bar(counter.keys(),counter.values())\n",
    "plt.show()\n",
    "\n",
    "from sklearn.decomposition import PCA\n",
    "pca = PCA(n_components = 10)\n",
    "  \n",
    "X_train =pca.fit_transform(X_train)\n",
    "X_test = pca.transform(X_test)\n",
    "  \n",
    "explained_variance = pca.explained_variance_ratio_\n",
    "print(explained_variance)\n",
    "print(np.exp(explained_variance))"
   ]
  },
  {
   "cell_type": "code",
   "execution_count": 60,
   "id": "7655b940",
   "metadata": {},
   "outputs": [
    {
     "name": "stdout",
     "output_type": "stream",
     "text": [
      "[0.91208791 0.93406593 0.91483516 0.93131868 0.90659341 0.92582418\n",
      " 0.93939394 0.92561983 0.9338843  0.93112948]\n",
      "0.9254752822934641\n"
     ]
    }
   ],
   "source": [
    "from sklearn.tree import DecisionTreeClassifier\n",
    "classifier=DecisionTreeClassifier(criterion=\"gini\",random_state=10)\n",
    "\n",
    "#performing kfold_cross_validation\n",
    "from sklearn.model_selection import StratifiedKFold\n",
    "kfold_cv=StratifiedKFold(n_splits=10,random_state=10,shuffle =True)\n",
    "#print(kfold_cv)\n",
    "\n",
    "from sklearn.model_selection import cross_val_score\n",
    "#running the model using scoring metric as accuracy\n",
    "kfold_cv_result=cross_val_score(estimator=classifier,X=X_train,y=Y_train, cv=kfold_cv)\n",
    "print(kfold_cv_result)\n",
    "#finding the mean\n",
    "print(kfold_cv_result.mean())"
   ]
  },
  {
   "cell_type": "code",
   "execution_count": 61,
   "id": "7692e418",
   "metadata": {},
   "outputs": [
    {
     "name": "stdout",
     "output_type": "stream",
     "text": [
      "[(2, 2), (1, 1), (2, 2), (2, 2), (2, 2), (1, 2), (2, 1), (2, 3), (1, 2), (2, 2), (2, 1), (0, 0), (2, 2), (1, 2), (2, 2), (2, 2), (1, 2), (2, 2), (2, 2), (2, 2), (2, 3), (2, 3), (1, 1), (2, 2), (2, 2), (2, 2), (0, 2), (1, 1), (2, 2), (1, 1), (2, 2), (2, 2), (2, 2), (2, 2), (1, 1), (2, 2), (2, 2), (2, 2), (2, 2), (2, 2), (2, 2), (2, 2), (2, 2), (2, 2), (2, 2), (1, 3), (2, 2), (2, 2), (0, 0), (2, 2), (2, 2), (2, 1), (2, 1), (2, 2), (2, 2), (2, 2), (2, 2), (1, 1), (2, 2), (2, 2), (1, 1), (1, 1), (2, 1), (2, 2), (2, 2), (1, 1), (1, 1), (2, 2), (2, 2), (2, 1), (2, 2), (1, 0), (2, 2), (2, 1), (2, 2), (2, 1), (1, 2), (2, 2), (2, 2), (2, 0), (2, 2), (2, 2), (2, 2), (2, 2), (0, 1), (2, 3), (0, 0), (2, 2), (1, 0), (2, 2), (2, 1), (0, 0), (2, 0), (2, 2), (2, 2), (2, 2), (2, 2), (2, 2), (2, 2), (0, 0), (2, 2), (2, 2), (1, 1), (2, 2), (2, 2), (0, 2), (2, 0), (2, 2), (2, 2), (1, 1), (2, 2), (2, 1), (1, 2), (2, 2), (2, 2), (2, 2), (2, 2), (3, 2), (2, 2), (2, 2), (1, 1), (2, 2), (2, 2), (1, 1), (2, 2), (1, 0), (2, 1), (2, 2), (2, 1), (2, 2), (2, 2), (2, 2), (2, 2), (2, 2), (1, 1), (0, 0), (2, 2), (1, 1), (3, 2), (2, 1), (2, 2), (2, 2), (2, 2), (1, 1), (2, 2), (2, 2), (0, 0), (3, 3), (2, 2), (1, 1), (2, 2), (1, 1), (2, 2), (2, 2), (2, 2), (2, 2), (3, 3), (2, 2), (2, 3), (2, 2), (2, 2), (2, 2), (1, 2), (2, 2), (1, 1), (2, 2), (2, 1), (2, 2), (1, 0), (1, 1), (3, 3), (2, 2), (2, 2), (0, 2), (2, 2), (2, 2), (1, 1), (1, 2), (2, 2), (2, 2), (2, 2), (1, 1), (2, 2), (2, 2), (1, 1), (2, 2), (1, 2), (2, 1), (2, 2), (0, 0), (2, 2), (2, 2), (2, 2), (2, 2), (2, 2), (2, 2), (2, 2), (2, 2), (2, 2), (2, 2), (2, 2), (2, 2), (1, 2), (2, 2), (2, 2), (0, 0), (2, 2), (2, 2), (0, 0), (1, 1), (2, 2), (2, 0), (2, 2), (2, 2), (2, 2), (1, 1), (2, 1), (0, 0), (0, 0), (2, 1), (1, 2), (1, 0), (2, 2), (2, 2), (2, 2), (1, 2), (2, 2), (2, 2), (1, 1), (2, 2), (0, 0), (0, 0), (2, 1), (2, 3), (2, 2), (2, 2), (2, 2), (2, 2), (1, 1), (2, 2), (1, 1), (2, 1), (2, 2), (2, 2), (2, 1), (2, 2), (1, 2), (1, 1), (0, 2), (1, 2), (0, 0), (2, 1), (2, 2), (0, 1), (2, 2), (2, 2), (2, 2), (1, 2), (2, 2), (2, 0), (2, 1), (1, 2), (1, 1), (2, 2), (2, 2), (2, 2), (1, 2), (2, 2), (2, 2), (0, 2), (2, 2), (1, 1), (2, 2), (1, 1), (2, 2), (1, 2), (0, 0), (1, 1), (2, 2), (2, 2), (2, 2), (1, 1), (2, 2), (2, 2), (2, 2), (2, 2), (2, 2), (1, 0), (2, 2), (2, 2), (2, 2), (1, 1), (2, 2), (0, 0), (2, 2), (2, 2), (0, 0), (2, 2), (1, 1), (2, 2), (2, 2), (2, 2), (2, 2), (1, 1), (2, 2), (2, 2), (2, 2), (2, 2), (2, 2), (2, 2), (2, 2), (2, 2), (2, 2), (2, 2), (2, 2), (1, 1), (2, 2), (1, 2), (2, 2), (2, 2), (2, 2), (2, 2), (2, 2), (2, 2), (2, 2), (2, 2), (2, 2), (2, 2), (2, 2), (2, 2), (2, 2), (2, 2), (2, 1), (2, 2), (2, 2), (2, 1), (2, 2), (2, 2), (2, 2), (1, 1), (2, 2), (2, 0), (2, 2), (2, 1), (2, 2), (2, 2), (2, 2), (2, 2), (1, 0), (2, 2), (2, 2), (0, 0), (2, 2), (2, 2), (2, 2), (2, 2), (0, 0), (2, 2), (2, 2), (2, 2), (1, 1), (2, 2), (2, 2), (2, 2), (2, 2), (2, 1), (2, 2), (2, 2), (2, 2), (2, 2), (0, 2), (2, 2), (2, 2), (2, 2), (2, 2), (3, 2), (2, 3), (2, 2), (2, 2), (2, 2), (2, 2), (2, 2), (2, 2), (2, 2), (2, 2), (1, 1), (2, 1), (1, 2), (2, 2), (2, 2), (2, 2), (2, 1), (2, 2), (2, 2), (2, 2), (0, 2), (2, 2), (2, 2), (2, 2), (2, 2), (1, 2), (2, 1), (2, 2), (2, 2), (1, 1), (2, 2), (2, 0), (1, 0), (2, 2), (1, 1), (1, 1), (2, 2), (2, 1), (2, 2), (2, 1), (2, 1), (2, 2), (2, 2), (2, 2), (0, 0), (2, 2), (2, 2), (1, 2), (2, 2), (2, 2), (2, 1), (1, 2), (2, 2), (2, 2), (2, 2), (2, 2), (2, 2), (2, 2), (2, 2), (2, 2), (1, 1), (2, 2), (2, 2), (2, 2), (1, 2), (2, 0), (2, 2), (2, 2), (2, 2), (1, 2), (2, 2), (2, 1), (2, 2), (2, 2), (3, 3), (2, 0), (2, 1), (2, 2), (2, 2), (2, 2), (2, 2), (1, 2), (3, 3), (2, 2), (2, 2), (1, 2), (1, 2), (2, 2), (2, 2), (2, 2), (2, 0), (1, 1), (2, 2), (2, 2), (1, 1), (2, 2), (1, 2), (2, 2), (2, 1), (2, 2), (2, 2), (2, 1), (1, 3), (2, 1), (2, 3), (2, 2), (1, 1), (2, 2), (2, 2), (1, 1), (1, 1), (1, 1), (2, 2), (2, 2), (1, 2), (2, 2), (2, 0), (2, 1), (2, 2), (2, 0), (2, 2), (3, 2), (2, 2), (1, 2), (2, 2), (1, 1), (2, 2), (1, 2), (2, 2), (2, 2), (2, 1), (1, 1), (1, 1), (2, 2), (2, 1), (2, 2), (2, 2)]\n"
     ]
    }
   ],
   "source": [
    "for train_value, test_value in kfold_cv.split(X_train,Y_train):\n",
    "    classifier.fit(X_train[train_value], Y_train[train_value]).predict(X_train[test_value])\n",
    "\n",
    "    \n",
    "Y_pred=classifier.predict(X_test)\n",
    "print(list(zip(Y_test,Y_pred)))"
   ]
  },
  {
   "cell_type": "code",
   "execution_count": 62,
   "id": "00efded7",
   "metadata": {
    "scrolled": true
   },
   "outputs": [
    {
     "name": "stdout",
     "output_type": "stream",
     "text": [
      "[[ 21   2   7   0]\n",
      " [  8  55  32   2]\n",
      " [ 12  41 315   8]\n",
      " [  0   0   4   5]]\n",
      "\n",
      "Classification report: \n",
      "              precision    recall  f1-score   support\n",
      "\n",
      "           0       0.51      0.70      0.59        30\n",
      "           1       0.56      0.57      0.56        97\n",
      "           2       0.88      0.84      0.86       376\n",
      "           3       0.33      0.56      0.42         9\n",
      "\n",
      "    accuracy                           0.77       512\n",
      "   macro avg       0.57      0.67      0.61       512\n",
      "weighted avg       0.79      0.77      0.78       512\n",
      "\n",
      "Accuracy of the model:  0.7734375\n"
     ]
    }
   ],
   "source": [
    "from sklearn.metrics import confusion_matrix, accuracy_score,classification_report\n",
    "\n",
    "cfm=confusion_matrix(Y_test,Y_pred)\n",
    "print(cfm)\n",
    "print()\n",
    "\n",
    "\n",
    "print(\"Classification report: \")\n",
    "\n",
    "print(classification_report(Y_test,Y_pred))\n",
    "\n",
    "acc=accuracy_score(Y_test, Y_pred)\n",
    "print(\"Accuracy of the model: \",acc)"
   ]
  },
  {
   "cell_type": "code",
   "execution_count": null,
   "id": "0120d94a",
   "metadata": {},
   "outputs": [],
   "source": []
  },
  {
   "cell_type": "markdown",
   "id": "89eb9dcc",
   "metadata": {},
   "source": [
    "# Random Forest"
   ]
  },
  {
   "cell_type": "code",
   "execution_count": 63,
   "id": "0e57a83f",
   "metadata": {},
   "outputs": [
    {
     "name": "stdout",
     "output_type": "stream",
     "text": [
      "StratifiedKFold(n_splits=10, random_state=10, shuffle=True)\n",
      "[0.96703297 0.97527473 0.95879121 0.96703297 0.95054945 0.96978022\n",
      " 0.96969697 0.97245179 0.96969697 0.96694215]\n",
      "0.9667249417249417\n"
     ]
    }
   ],
   "source": [
    "from sklearn.ensemble import RandomForestClassifier\n",
    "classifier=RandomForestClassifier(n_estimators=1000, random_state=10)\n",
    "\n",
    "#performing kfold_cross_validation\n",
    "from sklearn.model_selection import StratifiedKFold\n",
    "kfold_cv=StratifiedKFold(n_splits=10,random_state=10,shuffle =True)\n",
    "print(kfold_cv)\n",
    "\n",
    "from sklearn.model_selection import cross_val_score\n",
    "#running the model using scoring metric as accuracy\n",
    "kfold_cv_result=cross_val_score(estimator=classifier,X=X_train,y=Y_train, cv=kfold_cv)\n",
    "print(kfold_cv_result)\n",
    "#finding the mean\n",
    "print(kfold_cv_result.mean())"
   ]
  },
  {
   "cell_type": "code",
   "execution_count": 64,
   "id": "61203e65",
   "metadata": {},
   "outputs": [
    {
     "name": "stdout",
     "output_type": "stream",
     "text": [
      "[(2, 2), (1, 0), (2, 2), (2, 2), (2, 2), (1, 1), (2, 2), (2, 3), (1, 1), (2, 2), (2, 2), (0, 0), (2, 2), (1, 2), (2, 2), (2, 2), (1, 2), (2, 2), (2, 2), (2, 2), (2, 2), (2, 3), (1, 1), (2, 2), (2, 2), (2, 2), (0, 0), (1, 1), (2, 2), (1, 1), (2, 2), (2, 2), (2, 2), (2, 2), (1, 1), (2, 2), (2, 2), (2, 2), (2, 2), (2, 2), (2, 2), (2, 2), (2, 2), (2, 2), (2, 2), (1, 1), (2, 2), (2, 2), (0, 2), (2, 1), (2, 2), (2, 2), (2, 1), (2, 2), (2, 2), (2, 2), (2, 2), (1, 1), (2, 2), (2, 2), (1, 1), (1, 1), (2, 2), (2, 2), (2, 2), (1, 1), (1, 1), (2, 2), (2, 2), (2, 2), (2, 2), (1, 0), (2, 2), (2, 2), (2, 2), (2, 1), (1, 2), (2, 2), (2, 2), (2, 2), (2, 0), (2, 2), (2, 2), (2, 2), (0, 0), (2, 2), (0, 0), (2, 2), (1, 1), (2, 2), (2, 2), (0, 0), (2, 2), (2, 2), (2, 2), (2, 1), (2, 2), (2, 2), (2, 2), (0, 0), (2, 2), (2, 2), (1, 1), (2, 2), (2, 2), (0, 2), (2, 0), (2, 2), (2, 2), (1, 1), (2, 2), (2, 1), (1, 2), (2, 2), (2, 2), (2, 2), (2, 2), (3, 2), (2, 2), (2, 2), (1, 1), (2, 2), (2, 2), (1, 1), (2, 2), (1, 1), (2, 1), (2, 2), (2, 1), (2, 2), (2, 3), (2, 2), (2, 2), (2, 2), (1, 1), (0, 0), (2, 2), (1, 1), (3, 2), (2, 2), (2, 2), (2, 2), (2, 2), (1, 1), (2, 2), (2, 2), (0, 0), (3, 2), (2, 2), (1, 1), (2, 2), (1, 2), (2, 2), (2, 2), (2, 2), (2, 2), (3, 2), (2, 1), (2, 3), (2, 2), (2, 2), (2, 2), (1, 1), (2, 2), (1, 1), (2, 2), (2, 2), (2, 2), (1, 1), (1, 1), (3, 2), (2, 2), (2, 2), (0, 2), (2, 2), (2, 2), (1, 1), (1, 2), (2, 2), (2, 2), (2, 2), (1, 1), (2, 2), (2, 2), (1, 1), (2, 2), (1, 1), (2, 2), (2, 2), (0, 0), (2, 2), (2, 2), (2, 2), (2, 2), (2, 2), (2, 2), (2, 2), (2, 2), (2, 2), (2, 2), (2, 2), (2, 2), (1, 2), (2, 2), (2, 2), (0, 0), (2, 2), (2, 2), (0, 0), (1, 1), (2, 2), (2, 2), (2, 2), (2, 2), (2, 2), (1, 1), (2, 2), (0, 0), (0, 0), (2, 1), (1, 2), (1, 1), (2, 2), (2, 2), (2, 2), (1, 1), (2, 2), (2, 2), (1, 2), (2, 2), (0, 0), (0, 0), (2, 1), (2, 2), (2, 2), (2, 2), (2, 2), (2, 2), (1, 1), (2, 2), (1, 1), (2, 2), (2, 2), (2, 2), (2, 2), (2, 1), (1, 2), (1, 1), (0, 2), (1, 2), (0, 0), (2, 1), (2, 2), (0, 1), (2, 2), (2, 2), (2, 2), (1, 2), (2, 2), (2, 2), (2, 2), (1, 1), (1, 1), (2, 2), (2, 2), (2, 2), (1, 1), (2, 2), (2, 2), (0, 2), (2, 2), (1, 1), (2, 2), (1, 1), (2, 2), (1, 2), (0, 0), (1, 1), (2, 2), (2, 2), (2, 2), (1, 1), (2, 2), (2, 2), (2, 2), (2, 2), (2, 2), (1, 2), (2, 2), (2, 2), (2, 2), (1, 1), (2, 2), (0, 0), (2, 2), (2, 2), (0, 0), (2, 2), (1, 1), (2, 2), (2, 2), (2, 2), (2, 2), (1, 1), (2, 2), (2, 2), (2, 2), (2, 2), (2, 2), (2, 2), (2, 2), (2, 2), (2, 2), (2, 2), (2, 2), (1, 1), (2, 2), (1, 1), (2, 2), (2, 2), (2, 2), (2, 2), (2, 2), (2, 2), (2, 2), (2, 2), (2, 2), (2, 2), (2, 2), (2, 2), (2, 2), (2, 1), (2, 1), (2, 2), (2, 2), (2, 1), (2, 2), (2, 2), (2, 2), (1, 2), (2, 2), (2, 0), (2, 2), (2, 1), (2, 2), (2, 2), (2, 2), (2, 2), (1, 1), (2, 2), (2, 2), (0, 0), (2, 2), (2, 2), (2, 2), (2, 2), (0, 0), (2, 2), (2, 2), (2, 2), (1, 1), (2, 2), (2, 2), (2, 2), (2, 2), (2, 1), (2, 2), (2, 2), (2, 2), (2, 2), (0, 2), (2, 2), (2, 2), (2, 2), (2, 2), (3, 2), (2, 3), (2, 2), (2, 2), (2, 2), (2, 2), (2, 0), (2, 2), (2, 2), (2, 2), (1, 1), (2, 2), (1, 1), (2, 2), (2, 2), (2, 0), (2, 1), (2, 2), (2, 2), (2, 2), (0, 0), (2, 2), (2, 2), (2, 2), (2, 2), (1, 2), (2, 2), (2, 2), (2, 2), (1, 2), (2, 2), (2, 1), (1, 1), (2, 2), (1, 1), (1, 1), (2, 2), (2, 1), (2, 2), (2, 2), (2, 2), (2, 2), (2, 2), (2, 2), (0, 0), (2, 2), (2, 2), (1, 2), (2, 2), (2, 2), (2, 1), (1, 2), (2, 2), (2, 2), (2, 2), (2, 2), (2, 2), (2, 2), (2, 2), (2, 2), (1, 1), (2, 2), (2, 2), (2, 2), (1, 1), (2, 0), (2, 2), (2, 2), (2, 1), (1, 2), (2, 2), (2, 2), (2, 2), (2, 2), (3, 3), (2, 0), (2, 2), (2, 1), (2, 2), (2, 2), (2, 2), (1, 2), (3, 3), (2, 2), (2, 2), (1, 1), (1, 2), (2, 2), (2, 2), (2, 2), (2, 2), (1, 1), (2, 2), (2, 2), (1, 1), (2, 2), (1, 2), (2, 2), (2, 1), (2, 2), (2, 2), (2, 1), (1, 1), (2, 1), (2, 2), (2, 2), (1, 1), (2, 1), (2, 2), (1, 2), (1, 1), (1, 1), (2, 2), (2, 2), (1, 2), (2, 2), (2, 2), (2, 1), (2, 2), (2, 1), (2, 2), (3, 2), (2, 2), (1, 2), (2, 2), (1, 1), (2, 1), (1, 2), (2, 2), (2, 2), (2, 2), (1, 1), (1, 1), (2, 2), (2, 1), (2, 2), (2, 2)]\n"
     ]
    }
   ],
   "source": [
    "for train_value, test_value in kfold_cv.split(X_train,Y_train):\n",
    "    classifier.fit(X_train[train_value], Y_train[train_value]).predict(X_train[test_value])\n",
    "\n",
    "    \n",
    "Y_pred=classifier.predict(X_test)\n",
    "print(list(zip(Y_test,Y_pred)))"
   ]
  },
  {
   "cell_type": "code",
   "execution_count": 65,
   "id": "706c418c",
   "metadata": {
    "scrolled": true
   },
   "outputs": [
    {
     "name": "stdout",
     "output_type": "stream",
     "text": [
      "[[ 23   1   6   0]\n",
      " [  2  68  27   0]\n",
      " [  7  31 333   5]\n",
      " [  0   0   7   2]]\n",
      "\n",
      "Classification report: \n",
      "              precision    recall  f1-score   support\n",
      "\n",
      "           0       0.72      0.77      0.74        30\n",
      "           1       0.68      0.70      0.69        97\n",
      "           2       0.89      0.89      0.89       376\n",
      "           3       0.29      0.22      0.25         9\n",
      "\n",
      "    accuracy                           0.83       512\n",
      "   macro avg       0.64      0.64      0.64       512\n",
      "weighted avg       0.83      0.83      0.83       512\n",
      "\n",
      "Accuracy of the model:  0.83203125\n"
     ]
    }
   ],
   "source": [
    "from sklearn.metrics import confusion_matrix, accuracy_score,classification_report\n",
    "\n",
    "cfm=confusion_matrix(Y_test,Y_pred)\n",
    "print(cfm)\n",
    "print()\n",
    "\n",
    "\n",
    "print(\"Classification report: \")\n",
    "\n",
    "print(classification_report(Y_test,Y_pred))\n",
    "\n",
    "acc=accuracy_score(Y_test, Y_pred)\n",
    "print(\"Accuracy of the model: \",acc)"
   ]
  },
  {
   "cell_type": "code",
   "execution_count": null,
   "id": "11b2c113",
   "metadata": {},
   "outputs": [],
   "source": []
  },
  {
   "cell_type": "markdown",
   "id": "3e4bbd85",
   "metadata": {},
   "source": [
    "# SGD KFOLD"
   ]
  },
  {
   "cell_type": "code",
   "execution_count": null,
   "id": "bb9ccb0c",
   "metadata": {},
   "outputs": [],
   "source": []
  },
  {
   "cell_type": "code",
   "execution_count": 66,
   "id": "c4a3ea94",
   "metadata": {},
   "outputs": [
    {
     "name": "stdout",
     "output_type": "stream",
     "text": [
      "Class=0, n=89 (5.217%)\n",
      "Class=2, n=1285 (75.322%)\n",
      "Class=1, n=311 (18.230%)\n",
      "Class=3, n=21 (1.231%)\n"
     ]
    },
    {
     "data": {
      "image/png": "[encoded data removed]",
      "text/plain": [
       "<Figure size 432x288 with 1 Axes>"
      ]
     },
     "metadata": {
      "needs_background": "light"
     },
     "output_type": "display_data"
    },
    {
     "name": "stdout",
     "output_type": "stream",
     "text": [
      "Class=2, n=909 (25.000%)\n",
      "Class=1, n=909 (25.000%)\n",
      "Class=0, n=909 (25.000%)\n",
      "Class=3, n=909 (25.000%)\n"
     ]
    },
    {
     "data": {
      "image/png": "[encoded data removed]",
      "text/plain": [
       "<Figure size 432x288 with 1 Axes>"
      ]
     },
     "metadata": {
      "needs_background": "light"
     },
     "output_type": "display_data"
    },
    {
     "name": "stdout",
     "output_type": "stream",
     "text": [
      "[5.39851686e-01 1.74671887e-01 7.95219539e-02 7.65950501e-02\n",
      " 5.38035450e-02 3.85817997e-02 1.95123386e-02 1.33358491e-02\n",
      " 3.69836862e-03 4.27522317e-04]\n",
      "[1.71575237 1.19085542 1.08276933 1.0796048  1.05527727 1.03933574\n",
      " 1.01970395 1.01342517 1.00370522 1.00042761]\n"
     ]
    }
   ],
   "source": [
    "from sklearn.model_selection import train_test_split\n",
    "\n",
    "#Split the data into test and train\n",
    "X_train, X_test, Y_train, Y_test = train_test_split(X, Y, test_size=0.3,random_state=10)\n",
    "\n",
    "from collections import Counter\n",
    "counter = Counter(Y)\n",
    "for k,v in counter.items():\n",
    "    per = v / len(Y) * 100\n",
    "    print('Class=%d, n=%d (%.3f%%)' % (k, v, per))\n",
    "# plot the distribution\n",
    "plt.bar(counter.keys(), counter.values())\n",
    "plt.show()\n",
    "from imblearn.over_sampling import SMOTE \n",
    "oversample = SMOTE()\n",
    "X_train,Y_train = oversample.fit_resample(X_train,Y_train)\n",
    "\n",
    "counter = Counter(Y_train)\n",
    "for k,v in counter.items():\n",
    "    per = v/len(Y_train)*100\n",
    "    print('Class=%d, n=%d (%.3f%%)' % (k, v, per))\n",
    "    \n",
    "plt.bar(counter.keys(),counter.values())\n",
    "plt.show()\n",
    "\n",
    "from sklearn.decomposition import PCA\n",
    "pca = PCA(n_components = 10)\n",
    "  \n",
    "X_train =pca.fit_transform(X_train)\n",
    "X_test = pca.transform(X_test)\n",
    "  \n",
    "explained_variance = pca.explained_variance_ratio_\n",
    "print(explained_variance)\n",
    "print(np.exp(explained_variance))"
   ]
  },
  {
   "cell_type": "code",
   "execution_count": 67,
   "id": "d8bfd55b",
   "metadata": {},
   "outputs": [
    {
     "name": "stdout",
     "output_type": "stream",
     "text": [
      "StratifiedKFold(n_splits=10, random_state=10, shuffle=True)\n",
      "[0.84065934 0.82142857 0.81043956 0.85714286 0.88736264 0.79395604\n",
      " 0.85950413 0.84848485 0.85123967 0.80716253]\n",
      "0.8377380195562013\n"
     ]
    }
   ],
   "source": [
    "from sklearn.linear_model import SGDClassifier\n",
    "classifier=SGDClassifier(loss=\"log\",random_state=10,learning_rate=\"optimal\",\n",
    "                         max_iter=1000, shuffle=True,\n",
    "                        early_stopping=True,n_iter_no_change=5)\n",
    "\n",
    "#performing kfold_cross_validation\n",
    "from sklearn.model_selection import StratifiedKFold\n",
    "kfold_cv=StratifiedKFold(n_splits=10,random_state=10,shuffle =True)\n",
    "print(kfold_cv)\n",
    "\n",
    "from sklearn.model_selection import cross_val_score\n",
    "#running the model using scoring metric as accuracy\n",
    "kfold_cv_result=cross_val_score(estimator=classifier,X=X_train,y=Y_train, cv=kfold_cv)\n",
    "print(kfold_cv_result)\n",
    "#finding the mean\n",
    "print(kfold_cv_result.mean())"
   ]
  },
  {
   "cell_type": "code",
   "execution_count": 68,
   "id": "0d6a3513",
   "metadata": {},
   "outputs": [
    {
     "name": "stdout",
     "output_type": "stream",
     "text": [
      "[(2, 2), (1, 0), (2, 2), (2, 2), (2, 2), (1, 1), (2, 3), (2, 3), (1, 1), (2, 2), (2, 2), (0, 0), (2, 3), (1, 3), (2, 2), (2, 2), (1, 2), (2, 2), (2, 2), (2, 2), (2, 2), (2, 3), (1, 3), (2, 2), (2, 2), (2, 2), (0, 0), (1, 1), (2, 2), (1, 1), (2, 2), (2, 3), (2, 2), (2, 2), (1, 1), (2, 2), (2, 2), (2, 2), (2, 2), (2, 2), (2, 2), (2, 2), (2, 2), (2, 2), (2, 3), (1, 1), (2, 2), (2, 1), (0, 2), (2, 1), (2, 0), (2, 2), (2, 1), (2, 1), (2, 2), (2, 1), (2, 2), (1, 1), (2, 2), (2, 3), (1, 1), (1, 0), (2, 2), (2, 3), (2, 3), (1, 1), (1, 1), (2, 2), (2, 1), (2, 2), (2, 2), (1, 1), (2, 2), (2, 2), (2, 2), (2, 1), (1, 2), (2, 2), (2, 2), (2, 0), (2, 0), (2, 2), (2, 2), (2, 2), (0, 0), (2, 2), (0, 0), (2, 2), (1, 1), (2, 2), (2, 3), (0, 0), (2, 2), (2, 2), (2, 2), (2, 1), (2, 2), (2, 2), (2, 2), (0, 0), (2, 2), (2, 2), (1, 1), (2, 2), (2, 2), (0, 1), (2, 0), (2, 3), (2, 2), (1, 1), (2, 2), (2, 0), (1, 2), (2, 2), (2, 1), (2, 2), (2, 2), (3, 3), (2, 2), (2, 1), (1, 1), (2, 2), (2, 2), (1, 1), (2, 2), (1, 1), (2, 1), (2, 2), (2, 1), (2, 2), (2, 3), (2, 2), (2, 2), (2, 2), (1, 1), (0, 0), (2, 3), (1, 1), (3, 3), (2, 2), (2, 2), (2, 2), (2, 2), (1, 2), (2, 2), (2, 2), (0, 0), (3, 3), (2, 2), (1, 3), (2, 2), (1, 2), (2, 2), (2, 2), (2, 2), (2, 2), (3, 0), (2, 1), (2, 3), (2, 3), (2, 2), (2, 2), (1, 1), (2, 3), (1, 1), (2, 3), (2, 1), (2, 2), (1, 1), (1, 1), (3, 3), (2, 3), (2, 2), (0, 1), (2, 2), (2, 2), (1, 1), (1, 1), (2, 2), (2, 2), (2, 2), (1, 1), (2, 2), (2, 2), (1, 1), (2, 2), (1, 1), (2, 2), (2, 2), (0, 0), (2, 2), (2, 2), (2, 3), (2, 2), (2, 2), (2, 1), (2, 2), (2, 3), (2, 3), (2, 1), (2, 2), (2, 1), (1, 2), (2, 2), (2, 2), (0, 0), (2, 2), (2, 2), (0, 0), (1, 3), (2, 2), (2, 2), (2, 2), (2, 2), (2, 2), (1, 1), (2, 2), (0, 0), (0, 0), (2, 1), (1, 2), (1, 1), (2, 3), (2, 2), (2, 2), (1, 1), (2, 2), (2, 1), (1, 2), (2, 2), (0, 0), (0, 0), (2, 1), (2, 2), (2, 3), (2, 2), (2, 2), (2, 2), (1, 1), (2, 2), (1, 1), (2, 2), (2, 2), (2, 0), (2, 2), (2, 1), (1, 2), (1, 3), (0, 0), (1, 2), (0, 1), (2, 2), (2, 2), (0, 1), (2, 2), (2, 2), (2, 2), (1, 2), (2, 2), (2, 2), (2, 1), (1, 1), (1, 1), (2, 2), (2, 3), (2, 3), (1, 1), (2, 2), (2, 2), (0, 0), (2, 2), (1, 1), (2, 2), (1, 1), (2, 2), (1, 1), (0, 0), (1, 1), (2, 2), (2, 2), (2, 2), (1, 1), (2, 2), (2, 2), (2, 2), (2, 2), (2, 2), (1, 0), (2, 2), (2, 2), (2, 2), (1, 1), (2, 2), (0, 0), (2, 2), (2, 2), (0, 0), (2, 2), (1, 1), (2, 2), (2, 2), (2, 2), (2, 3), (1, 1), (2, 2), (2, 2), (2, 2), (2, 2), (2, 2), (2, 2), (2, 2), (2, 2), (2, 2), (2, 1), (2, 2), (1, 1), (2, 2), (1, 1), (2, 2), (2, 2), (2, 2), (2, 2), (2, 1), (2, 2), (2, 3), (2, 1), (2, 3), (2, 2), (2, 2), (2, 2), (2, 2), (2, 1), (2, 1), (2, 1), (2, 3), (2, 1), (2, 2), (2, 2), (2, 2), (1, 0), (2, 2), (2, 0), (2, 2), (2, 2), (2, 2), (2, 2), (2, 2), (2, 2), (1, 3), (2, 2), (2, 2), (0, 0), (2, 2), (2, 2), (2, 2), (2, 2), (0, 0), (2, 2), (2, 2), (2, 2), (1, 1), (2, 2), (2, 2), (2, 2), (2, 2), (2, 1), (2, 2), (2, 2), (2, 2), (2, 2), (0, 2), (2, 2), (2, 2), (2, 2), (2, 2), (3, 2), (2, 3), (2, 1), (2, 2), (2, 3), (2, 2), (2, 0), (2, 2), (2, 2), (2, 2), (1, 1), (2, 2), (1, 1), (2, 2), (2, 2), (2, 0), (2, 1), (2, 2), (2, 2), (2, 2), (0, 0), (2, 1), (2, 1), (2, 2), (2, 2), (1, 2), (2, 2), (2, 2), (2, 2), (1, 1), (2, 3), (2, 1), (1, 1), (2, 3), (1, 1), (1, 1), (2, 2), (2, 1), (2, 2), (2, 2), (2, 2), (2, 2), (2, 2), (2, 2), (0, 0), (2, 2), (2, 3), (1, 3), (2, 3), (2, 2), (2, 2), (1, 2), (2, 2), (2, 2), (2, 2), (2, 2), (2, 2), (2, 2), (2, 2), (2, 3), (1, 1), (2, 2), (2, 2), (2, 2), (1, 1), (2, 0), (2, 2), (2, 2), (2, 1), (1, 2), (2, 2), (2, 0), (2, 2), (2, 2), (3, 3), (2, 0), (2, 2), (2, 1), (2, 2), (2, 2), (2, 2), (1, 0), (3, 3), (2, 2), (2, 3), (1, 1), (1, 1), (2, 2), (2, 2), (2, 2), (2, 2), (1, 1), (2, 2), (2, 2), (1, 1), (2, 2), (1, 1), (2, 2), (2, 1), (2, 2), (2, 2), (2, 1), (1, 1), (2, 1), (2, 3), (2, 2), (1, 3), (2, 1), (2, 2), (1, 2), (1, 1), (1, 3), (2, 2), (2, 2), (1, 2), (2, 2), (2, 2), (2, 1), (2, 2), (2, 1), (2, 2), (3, 3), (2, 2), (1, 1), (2, 2), (1, 1), (2, 1), (1, 2), (2, 2), (2, 2), (2, 2), (1, 1), (1, 1), (2, 2), (2, 2), (2, 2), (2, 2)]\n"
     ]
    }
   ],
   "source": [
    "for train_value, test_value in kfold_cv.split(X_train,Y_train):\n",
    "    classifier.fit(X_train[train_value], Y_train[train_value]).predict(X_train[test_value])\n",
    "\n",
    "    \n",
    "Y_pred=classifier.predict(X_test)\n",
    "print(list(zip(Y_test,Y_pred)))"
   ]
  },
  {
   "cell_type": "code",
   "execution_count": 69,
   "id": "2c6271f4",
   "metadata": {
    "scrolled": false
   },
   "outputs": [
    {
     "name": "stdout",
     "output_type": "stream",
     "text": [
      "[[ 24   4   2   0]\n",
      " [  5  66  17   9]\n",
      " [ 12  45 281  38]\n",
      " [  1   0   1   7]]\n",
      "\n",
      "Classification report: \n",
      "              precision    recall  f1-score   support\n",
      "\n",
      "           0       0.57      0.80      0.67        30\n",
      "           1       0.57      0.68      0.62        97\n",
      "           2       0.93      0.75      0.83       376\n",
      "           3       0.13      0.78      0.22         9\n",
      "\n",
      "    accuracy                           0.74       512\n",
      "   macro avg       0.55      0.75      0.59       512\n",
      "weighted avg       0.83      0.74      0.77       512\n",
      "\n",
      "Accuracy of the model:  0.73828125\n"
     ]
    }
   ],
   "source": [
    "from sklearn.metrics import confusion_matrix, accuracy_score,classification_report\n",
    "\n",
    "cfm=confusion_matrix(Y_test,Y_pred)\n",
    "print(cfm)\n",
    "print()\n",
    "\n",
    "\n",
    "print(\"Classification report: \")\n",
    "\n",
    "print(classification_report(Y_test,Y_pred))\n",
    "\n",
    "acc=accuracy_score(Y_test, Y_pred)\n",
    "print(\"Accuracy of the model: \",acc)"
   ]
  },
  {
   "cell_type": "code",
   "execution_count": null,
   "id": "aa6d9d1d",
   "metadata": {},
   "outputs": [],
   "source": []
  },
  {
   "cell_type": "markdown",
   "id": "5f302abd",
   "metadata": {},
   "source": [
    "- #here i choose the Logistic Regression model over all the model as it gives better recall values for each classe then anyother \n",
    "- #storing the predictive values in to excelsheet"
   ]
  },
  {
   "cell_type": "code",
   "execution_count": 70,
   "id": "74c3df83",
   "metadata": {},
   "outputs": [
    {
     "data": {
      "text/html": [
       "<div>\n",
       "<style scoped>\n",
       "    .dataframe tbody tr th:only-of-type {\n",
       "        vertical-align: middle;\n",
       "    }\n",
       "\n",
       "    .dataframe tbody tr th {\n",
       "        vertical-align: top;\n",
       "    }\n",
       "\n",
       "    .dataframe thead th {\n",
       "        text-align: right;\n",
       "    }\n",
       "</style>\n",
       "<table border=\"1\" class=\"dataframe\">\n",
       "  <thead>\n",
       "    <tr style=\"text-align: right;\">\n",
       "      <th></th>\n",
       "      <th>Actual</th>\n",
       "      <th>Prediction</th>\n",
       "    </tr>\n",
       "  </thead>\n",
       "  <tbody>\n",
       "    <tr>\n",
       "      <th>0</th>\n",
       "      <td>2</td>\n",
       "      <td>2</td>\n",
       "    </tr>\n",
       "    <tr>\n",
       "      <th>1</th>\n",
       "      <td>1</td>\n",
       "      <td>0</td>\n",
       "    </tr>\n",
       "    <tr>\n",
       "      <th>2</th>\n",
       "      <td>2</td>\n",
       "      <td>2</td>\n",
       "    </tr>\n",
       "    <tr>\n",
       "      <th>3</th>\n",
       "      <td>2</td>\n",
       "      <td>2</td>\n",
       "    </tr>\n",
       "    <tr>\n",
       "      <th>4</th>\n",
       "      <td>2</td>\n",
       "      <td>2</td>\n",
       "    </tr>\n",
       "    <tr>\n",
       "      <th>...</th>\n",
       "      <td>...</td>\n",
       "      <td>...</td>\n",
       "    </tr>\n",
       "    <tr>\n",
       "      <th>507</th>\n",
       "      <td>1</td>\n",
       "      <td>1</td>\n",
       "    </tr>\n",
       "    <tr>\n",
       "      <th>508</th>\n",
       "      <td>2</td>\n",
       "      <td>2</td>\n",
       "    </tr>\n",
       "    <tr>\n",
       "      <th>509</th>\n",
       "      <td>2</td>\n",
       "      <td>2</td>\n",
       "    </tr>\n",
       "    <tr>\n",
       "      <th>510</th>\n",
       "      <td>2</td>\n",
       "      <td>2</td>\n",
       "    </tr>\n",
       "    <tr>\n",
       "      <th>511</th>\n",
       "      <td>2</td>\n",
       "      <td>2</td>\n",
       "    </tr>\n",
       "  </tbody>\n",
       "</table>\n",
       "<p>512 rows × 2 columns</p>\n",
       "</div>"
      ],
      "text/plain": [
       "     Actual  Prediction\n",
       "0         2           2\n",
       "1         1           0\n",
       "2         2           2\n",
       "3         2           2\n",
       "4         2           2\n",
       "..      ...         ...\n",
       "507       1           1\n",
       "508       2           2\n",
       "509       2           2\n",
       "510       2           2\n",
       "511       2           2\n",
       "\n",
       "[512 rows x 2 columns]"
      ]
     },
     "execution_count": 70,
     "metadata": {},
     "output_type": "execute_result"
    }
   ],
   "source": [
    "new_df = pd.DataFrame()\n",
    "new_df[\"Actual\"] = Y_test\n",
    "new_df[\"Prediction\"] = Y_pred\n",
    "new_df.reset_index(drop = True)"
   ]
  },
  {
   "cell_type": "code",
   "execution_count": 71,
   "id": "5338fc00",
   "metadata": {},
   "outputs": [],
   "source": [
    "new_df.to_excel(\"geo_result.xlsx\")"
   ]
  },
  {
   "cell_type": "markdown",
   "id": "debdb094",
   "metadata": {},
   "source": [
    "# Conclusion - \n",
    " - Here Model has the accuracy score of : - 72% (Logistic Regression)\n",
    " - it has satisfied recall for every class \n",
    " - the data is highly imbalance multiclass data, so Smote and Stratifies K-Fold has been used.\n",
    " - PCA was used to rotate set of points around their mean which moves variance as much as possible\n",
    " - Algorithms used :- \n",
    "     - Logistic Regression\n",
    "     - KNN \n",
    "     - SVC\n",
    "     - Decision Tree\n",
    "     - Random forest\n",
    "     - SGD Classifier\n",
    "  - All algorithms were applied with the cross validation Techniques with Smote Data\n",
    "  - Stratified K-fold Validation And Smote has been only done on training Data \n",
    "  - Overall this model predict Rain, Sunny, Fog and Thunder."
   ]
  },
  {
   "cell_type": "code",
   "execution_count": null,
   "id": "061858c7",
   "metadata": {},
   "outputs": [],
   "source": []
  },
  {
   "cell_type": "code",
   "execution_count": null,
   "id": "1544cfe7",
   "metadata": {},
   "outputs": [],
   "source": []
  }
 ],
 "metadata": {
  "kernelspec": {
   "display_name": "Python 3 (ipykernel)",
   "language": "python",
   "name": "python3"
  },
  "language_info": {
   "codemirror_mode": {
    "name": "ipython",
    "version": 3
   },
   "file_extension": ".py",
   "mimetype": "text/x-python",
   "name": "python",
   "nbconvert_exporter": "python",
   "pygments_lexer": "ipython3",
   "version": "3.9.7"
  }
 },
 "nbformat": 4,
 "nbformat_minor": 5
}
